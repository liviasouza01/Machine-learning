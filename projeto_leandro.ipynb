{
  "cells": [
    {
      "cell_type": "code",
      "source": [
        "!pip install sklvq"
      ],
      "metadata": {
        "colab": {
          "base_uri": "https://localhost:8080/"
        },
        "id": "cLB0HKqioTnS",
        "outputId": "edc938eb-0d35-4417-d10e-3f14a8f4d913"
      },
      "execution_count": null,
      "outputs": [
        {
          "output_type": "stream",
          "name": "stdout",
          "text": [
            "Looking in indexes: https://pypi.org/simple, https://us-python.pkg.dev/colab-wheels/public/simple/\n",
            "Requirement already satisfied: sklvq in /usr/local/lib/python3.10/dist-packages (0.1.2)\n",
            "Requirement already satisfied: numpy>=1.14.0 in /usr/local/lib/python3.10/dist-packages (from sklvq) (1.22.4)\n",
            "Requirement already satisfied: scipy>=1.1.0 in /usr/local/lib/python3.10/dist-packages (from sklvq) (1.10.1)\n",
            "Requirement already satisfied: scikit-learn>=0.23.2 in /usr/local/lib/python3.10/dist-packages (from sklvq) (1.2.2)\n",
            "Requirement already satisfied: joblib>=1.1.1 in /usr/local/lib/python3.10/dist-packages (from scikit-learn>=0.23.2->sklvq) (1.2.0)\n",
            "Requirement already satisfied: threadpoolctl>=2.0.0 in /usr/local/lib/python3.10/dist-packages (from scikit-learn>=0.23.2->sklvq) (3.1.0)\n"
          ]
        }
      ]
    },
    {
      "cell_type": "code",
      "execution_count": null,
      "metadata": {
        "id": "VL2o1hjhy2vz"
      },
      "outputs": [],
      "source": [
        "import graphviz\n",
        "import itertools\n",
        "import numpy as np\n",
        "import pandas as pd\n",
        "from sklvq import GLVQ\n",
        "from sklearn.svm import SVC\n",
        "import matplotlib.pyplot as plt\n",
        "from matplotlib.colors import ListedColormap\n",
        "from sklearn.neural_network import MLPClassifier\n",
        "from sklearn.neighbors import KNeighborsClassifier\n",
        "from sklearn.preprocessing import LabelEncoder, StandardScaler\n",
        "from sklearn.ensemble import RandomForestClassifier, StackingClassifier, VotingClassifier\n",
        "from sklearn.tree import DecisionTreeClassifier, export_graphviz, plot_tree\n",
        "from sklearn.model_selection import GridSearchCV, StratifiedKFold, train_test_split\n",
        "from sklearn.metrics import accuracy_score, confusion_matrix, f1_score, make_scorer, precision_score, recall_score, roc_auc_score"
      ]
    },
    {
      "cell_type": "code",
      "execution_count": null,
      "metadata": {
        "id": "LRTNv90QFSjY"
      },
      "outputs": [],
      "source": [
        "data = pd.read_csv('https://archive.ics.uci.edu/ml/machine-learning-databases/magic/magic04.data', names=[\"fLength\", \"fWidth\", \"fSize\", \"fConc\", \"fConc1\", \"fAsym\", \"fM3Long\", \"fM3Trans\", \"fAlpha\", \"fDist\", \"class\"])"
      ]
    },
    {
      "cell_type": "code",
      "execution_count": null,
      "metadata": {
        "colab": {
          "base_uri": "https://localhost:8080/"
        },
        "id": "wJICvkgIGJa1",
        "outputId": "c4342277-ee52-48fb-faf2-64de089f44d3"
      },
      "outputs": [
        {
          "output_type": "stream",
          "name": "stdout",
          "text": [
            "<class 'pandas.core.frame.DataFrame'>\n",
            "RangeIndex: 19020 entries, 0 to 19019\n",
            "Data columns (total 11 columns):\n",
            " #   Column    Non-Null Count  Dtype  \n",
            "---  ------    --------------  -----  \n",
            " 0   fLength   19020 non-null  float64\n",
            " 1   fWidth    19020 non-null  float64\n",
            " 2   fSize     19020 non-null  float64\n",
            " 3   fConc     19020 non-null  float64\n",
            " 4   fConc1    19020 non-null  float64\n",
            " 5   fAsym     19020 non-null  float64\n",
            " 6   fM3Long   19020 non-null  float64\n",
            " 7   fM3Trans  19020 non-null  float64\n",
            " 8   fAlpha    19020 non-null  float64\n",
            " 9   fDist     19020 non-null  float64\n",
            " 10  class     19020 non-null  object \n",
            "dtypes: float64(10), object(1)\n",
            "memory usage: 1.6+ MB\n"
          ]
        }
      ],
      "source": [
        "data.info()"
      ]
    },
    {
      "cell_type": "markdown",
      "source": [
        "### Versão 1: sem tratamento (sem remoção de outliers)"
      ],
      "metadata": {
        "id": "7RlNAs9OJ0Lw"
      }
    },
    {
      "cell_type": "code",
      "execution_count": null,
      "metadata": {
        "id": "QtXCYaQ6FUTv"
      },
      "outputs": [],
      "source": [
        "X = data.drop([\"class\"], axis=1).values\n",
        "Y = data[\"class\"].values"
      ]
    },
    {
      "cell_type": "markdown",
      "source": [
        "### Versão 2: com tratamento (com remoção de outliers)"
      ],
      "metadata": {
        "id": "C69iUT3SJ4Op"
      }
    },
    {
      "cell_type": "code",
      "source": [
        "numeric_cols = ['fLength', 'fWidth', 'fSize', 'fConc', 'fConc1', 'fAsym', 'fM3Long', 'fM3Trans',\n",
        "                'fAlpha', 'fDist']\n",
        "z_scores = data[numeric_cols].apply(lambda x: (x - x.mean()) / x.std())\n",
        "\n",
        "\n",
        "threshold = 3\n",
        "outliers = (z_scores.abs() > threshold).any(axis=1)\n",
        "df_cleaned = data[~outliers]"
      ],
      "metadata": {
        "id": "XQrn-SUFJ37V"
      },
      "execution_count": null,
      "outputs": []
    },
    {
      "cell_type": "code",
      "source": [
        "X = df_cleaned.drop([\"class\"], axis=1).values\n",
        "Y = df_cleaned[\"class\"].values"
      ],
      "metadata": {
        "id": "iM5Ytu0BKFkm"
      },
      "execution_count": null,
      "outputs": []
    },
    {
      "cell_type": "markdown",
      "metadata": {
        "id": "aa9314jSIK-r"
      },
      "source": [
        "## Pré-processamento"
      ]
    },
    {
      "cell_type": "code",
      "execution_count": null,
      "metadata": {
        "id": "kTPnwZtnJYTV"
      },
      "outputs": [],
      "source": [
        "le = LabelEncoder()\n",
        "scaler = StandardScaler()\n",
        "X_scaled = scaler.fit_transform(X)"
      ]
    },
    {
      "cell_type": "code",
      "execution_count": null,
      "metadata": {
        "colab": {
          "base_uri": "https://localhost:8080/"
        },
        "id": "aiUIpHwKIJoK",
        "outputId": "6c2c8f8c-9e54-4200-dc24-b002bd77a7e6"
      },
      "outputs": [
        {
          "output_type": "execute_result",
          "data": {
            "text/plain": [
              "10"
            ]
          },
          "metadata": {},
          "execution_count": 71
        }
      ],
      "source": [
        "kf = StratifiedKFold(n_splits=10)\n",
        "kf.get_n_splits(X, Y)"
      ]
    },
    {
      "cell_type": "markdown",
      "source": [
        "## Funções auxiliares"
      ],
      "metadata": {
        "id": "EdXPoejhwg3B"
      }
    },
    {
      "cell_type": "code",
      "source": [
        "def plot_confusion_matrix(cm, classes, normalize=False, title='Confusion matrix', cmap=plt.cm.Blues):\n",
        "    if normalize:\n",
        "        cm = cm.astype('float') / cm.sum(axis=1)[:, np.newaxis]\n",
        "        print(\"Normalized confusion matrix\")\n",
        "    else:\n",
        "        print('Confusion matrix, without normalization')\n",
        "\n",
        "    print(cm)\n",
        "    plt.imshow(cm, interpolation='nearest', cmap=cmap)\n",
        "    plt.title(title)\n",
        "    plt.colorbar()\n",
        "    tick_marks = np.arange(len(classes))\n",
        "    plt.xticks(tick_marks, classes, rotation=45)\n",
        "    plt.yticks(tick_marks, classes)\n",
        "\n",
        "    fmt = '.2f' if normalize else '.2f'\n",
        "    thresh = cm.max() / 2.\n",
        "    for i, j in itertools.product(range(cm.shape[0]), range(cm.shape[1])):\n",
        "        plt.text(j, i, format(cm[i, j], fmt), horizontalalignment=\"center\", color=\"white\" if cm[i, j] > thresh else \"black\")\n",
        "\n",
        "    plt.tight_layout()\n",
        "    plt.ylabel('True label')\n",
        "    plt.xlabel('Predicted label')"
      ],
      "metadata": {
        "id": "u9E74x90wi9G"
      },
      "execution_count": null,
      "outputs": []
    },
    {
      "cell_type": "markdown",
      "metadata": {
        "id": "uMDDj1YJMya1"
      },
      "source": [
        "## k-NN"
      ]
    },
    {
      "cell_type": "code",
      "source": [
        "X_train, X_test, Y_train, Y_test = train_test_split(X_scaled, Y, train_size=0.8, random_state=42)"
      ],
      "metadata": {
        "id": "8ZS4KXb9l5n6"
      },
      "execution_count": null,
      "outputs": []
    },
    {
      "cell_type": "code",
      "source": [
        "knn = KNeighborsClassifier()\n",
        "# parâmetros do gridsearch\n",
        "params = {\n",
        "  \"n_neighbors\": list(range(1, 14, 2)),\n",
        "  \"weights\": [\"uniform\", \"distance\"],\n",
        "  \"metric\": [\"euclidean\", \"manhattan\"]\n",
        "}\n",
        "\n",
        "# busca dos melhores parâmetros\n",
        "search = GridSearchCV(knn, params)\n",
        "\n",
        "# executa e salva os melhores parâmetros\n",
        "result = search.fit(X_train, Y_train)\n",
        "best_model = result.best_estimator_\n",
        "Y_pred = best_model.predict(X_test)\n",
        "print(\"Melhores parâmetros: \", result.best_params_)\n",
        "print(\"Melhor acuracia: \", accuracy_score(Y_test, Y_pred))\n",
        "print(\"Melhor f1-score: \", f1_score(Y_test, Y_pred, average=\"binary\", pos_label=\"g\"))"
      ],
      "metadata": {
        "colab": {
          "base_uri": "https://localhost:8080/"
        },
        "id": "HAFeFNXCmQCV",
        "outputId": "cd8ad0cd-a4cc-4ba8-bd33-e830155eb3fd"
      },
      "execution_count": null,
      "outputs": [
        {
          "output_type": "stream",
          "name": "stdout",
          "text": [
            "Melhores parâmetros:  {'metric': 'manhattan', 'n_neighbors': 9, 'weights': 'distance'}\n",
            "Melhor acuracia:  0.8477917981072555\n",
            "Melhor f1-score:  0.8907753254102999\n"
          ]
        }
      ]
    },
    {
      "cell_type": "code",
      "execution_count": null,
      "metadata": {
        "id": "UweNTNymP-_6"
      },
      "outputs": [],
      "source": [
        "kf_accuracy = list()\n",
        "kf_conf_mat = list()\n",
        "kf_f1 = list()\n",
        "kf_recall = list()\n",
        "kf_roc = list()"
      ]
    },
    {
      "cell_type": "code",
      "execution_count": null,
      "metadata": {
        "id": "x8cvNLPbM0co"
      },
      "outputs": [],
      "source": [
        "for train_ix, test_ix in kf.split(X_scaled, Y):\n",
        "  X_train, X_test = X_scaled[train_ix, :], X_scaled[test_ix, :]\n",
        "  Y_train, Y_test = Y[train_ix], Y[test_ix]\n",
        "\n",
        "  knn = KNeighborsClassifier(n_neighbors=9, weights=\"distance\", metric=\"manhattan\")\n",
        "  knn.fit(X_train, Y_train)\n",
        "  Y_pred = knn.predict(X_test)\n",
        "  Y_test_enc = le.fit_transform(Y_test)\n",
        "  Y_pred_enc = le.fit_transform(Y_pred)\n",
        "\n",
        "  # métricas\n",
        "  acc = accuracy_score(Y_test, Y_pred)\n",
        "  conf_mat = confusion_matrix(Y_test, Y_pred)\n",
        "  f1 = f1_score(Y_test, Y_pred, average=\"macro\")\n",
        "  recall = recall_score(Y_test, Y_pred, average=\"macro\")\n",
        "  roc = roc_auc_score(Y_test_enc, Y_pred_enc, multi_class=\"ovo\", average = \"macro\")\n",
        "\n",
        "  # armazenamento de métricas\n",
        "  kf_accuracy.append(acc)\n",
        "  kf_conf_mat.append(conf_mat)\n",
        "  kf_f1.append(f1)\n",
        "  kf_recall.append(recall)\n",
        "  kf_roc.append(roc)"
      ]
    },
    {
      "cell_type": "code",
      "execution_count": null,
      "metadata": {
        "id": "JARRUQdLQTVM",
        "colab": {
          "base_uri": "https://localhost:8080/"
        },
        "outputId": "a7d5a3b6-d89a-4b19-a0ba-42c054d229b2"
      },
      "outputs": [
        {
          "output_type": "stream",
          "name": "stdout",
          "text": [
            "Accuracy: 0.8483 (0.0065)\n",
            "F1-score: 0.8200 (0.0084)\n",
            "Recall: 0.8014 (0.0087)\n",
            "AUC: 0.8014 (0.0087)\n"
          ]
        }
      ],
      "source": [
        "print(\"Accuracy: %.4f (%.4f)\" % (np.mean(kf_accuracy), np.std(kf_accuracy)))\n",
        "print(\"F1-score: %.4f (%.4f)\" % (np.mean(kf_f1), np.std(kf_f1)))\n",
        "print(\"Recall: %.4f (%.4f)\" % (np.mean(kf_recall), np.std(kf_recall)))\n",
        "print(\"AUC: %.4f (%.4f)\" % (np.mean(kf_roc), np.std(kf_roc)))"
      ]
    },
    {
      "cell_type": "code",
      "execution_count": null,
      "metadata": {
        "id": "IjnpJSwJTkZ-"
      },
      "outputs": [],
      "source": [
        "conf_mat_mean = np.mean(kf_conf_mat, axis=0)"
      ]
    },
    {
      "cell_type": "code",
      "execution_count": null,
      "metadata": {
        "id": "BiwgncKJTgL3",
        "colab": {
          "base_uri": "https://localhost:8080/",
          "height": 558
        },
        "outputId": "459dd80e-9b41-48a6-d30d-e91246534c3d"
      },
      "outputs": [
        {
          "output_type": "stream",
          "name": "stdout",
          "text": [
            "Confusion matrix, without normalization\n",
            "[[1183.1   50.1]\n",
            " [ 238.5  430.3]]\n"
          ]
        },
        {
          "output_type": "display_data",
          "data": {
            "text/plain": [
              "<Figure size 640x480 with 2 Axes>"
            ],
            "image/png": "[encoded data removed]"
          },
          "metadata": {}
        }
      ],
      "source": [
        "plot_confusion_matrix(conf_mat_mean,[\"g\",\"h\"])\n",
        "# plt.savefig('MC_KNN.png', transparent=True, dpi=300, bbox_inches=\"tight\")"
      ]
    },
    {
      "cell_type": "markdown",
      "source": [
        "## LVQ"
      ],
      "metadata": {
        "id": "3af4K7tTkBqu"
      }
    },
    {
      "cell_type": "code",
      "source": [
        "X_train, X_test, Y_train, Y_test = train_test_split(X_scaled, Y, train_size=0.8, random_state=42)"
      ],
      "metadata": {
        "id": "iDf0kRabpeo-"
      },
      "execution_count": null,
      "outputs": []
    },
    {
      "cell_type": "code",
      "source": [
        "lvq = GLVQ()\n",
        "# parâmetros do gridsearch\n",
        "params = dict()\n",
        "params = {\n",
        "  \"distance_type\": [\"squared-euclidean\", \"euclidean\"],\n",
        "  \"activation_type\": [\"swish\", \"sigmoid\", \"soft+\"]\n",
        "}\n",
        "\n",
        "# busca dos melhores parâmetros\n",
        "search = GridSearchCV(lvq, params)\n",
        "\n",
        "# executa e salva os melhores parâmetros\n",
        "result = search.fit(X_train, Y_train)\n",
        "best_model = result.best_estimator_\n",
        "Y_pred = best_model.predict(X_test)\n",
        "print(\"Melhores parâmetros: \", result.best_params_)\n",
        "print(\"Melhor acuracia: \", accuracy_score(Y_test, Y_pred))\n",
        "print(\"Melhor f1-score: \", f1_score(Y_test, Y_pred, average=\"binary\", pos_label=\"g\"))"
      ],
      "metadata": {
        "colab": {
          "base_uri": "https://localhost:8080/"
        },
        "id": "cLF8hx9QpmeH",
        "outputId": "0d7cdde7-bb25-4400-8d9f-4c21484336d3"
      },
      "execution_count": null,
      "outputs": [
        {
          "output_type": "stream",
          "name": "stdout",
          "text": [
            "Melhores parâmetros:  {'activation_type': 'swish', 'distance_type': 'squared-euclidean'}\n",
            "Melhor acuracia:  0.7820715036803365\n",
            "Melhor f1-score:  0.8490256783828082\n"
          ]
        }
      ]
    },
    {
      "cell_type": "code",
      "source": [
        "lvq_accuracy = list()\n",
        "lvq_conf_mat = list()\n",
        "lvq_f1 = list()\n",
        "lvq_recall = list()\n",
        "lvq_roc = list()"
      ],
      "metadata": {
        "id": "fBcxeSMvkA-e"
      },
      "execution_count": null,
      "outputs": []
    },
    {
      "cell_type": "code",
      "source": [
        "for train_ix, test_ix in kf.split(X_scaled, Y):\n",
        "  X_train, X_test = X_scaled[train_ix, :], X_scaled[test_ix, :]\n",
        "  Y_train, Y_test = Y[train_ix], Y[test_ix]\n",
        "\n",
        "  lvq = GLVQ(activation_type=\"swish\", distance_type=\"squared-euclidean\")\n",
        "  lvq.fit(X_train, Y_train)\n",
        "  Y_pred = lvq.predict(X_test)\n",
        "  Y_test_enc = le.fit_transform(Y_test)\n",
        "  Y_pred_enc = le.fit_transform(Y_pred)\n",
        "\n",
        "  # métricas\n",
        "  acc = accuracy_score(Y_test, Y_pred)\n",
        "  conf_mat = confusion_matrix(Y_test, Y_pred)\n",
        "  f1 = f1_score(Y_test, Y_pred, average=\"macro\")\n",
        "  recall = recall_score(Y_test, Y_pred, average=\"macro\")\n",
        "  roc = roc_auc_score(Y_test_enc, Y_pred_enc, multi_class=\"ovo\", average = \"macro\")\n",
        "\n",
        "  # armazenamento de métricas\n",
        "  lvq_accuracy.append(acc)\n",
        "  lvq_conf_mat.append(conf_mat)\n",
        "  lvq_f1.append(f1)\n",
        "  lvq_recall.append(recall)\n",
        "  lvq_roc.append(roc)"
      ],
      "metadata": {
        "id": "oebfKIGwkOBE"
      },
      "execution_count": null,
      "outputs": []
    },
    {
      "cell_type": "code",
      "source": [
        "print(\"Accuracy: %.4f (%.4f)\" % (np.mean(lvq_accuracy), np.std(lvq_accuracy)))\n",
        "print(\"F1-score: %.4f (%.4f)\" % (np.mean(lvq_f1), np.std(lvq_f1)))\n",
        "print(\"Recall: %.4f (%.4f)\" % (np.mean(lvq_recall), np.std(lvq_recall)))\n",
        "print(\"AUC: %.4f (%.4f)\" % (np.mean(lvq_roc), np.std(lvq_roc)))"
      ],
      "metadata": {
        "colab": {
          "base_uri": "https://localhost:8080/"
        },
        "id": "2FwrnDjvwBy8",
        "outputId": "a1470668-7d4f-43ca-b137-012249d44a39"
      },
      "execution_count": null,
      "outputs": [
        {
          "output_type": "stream",
          "name": "stdout",
          "text": [
            "Accuracy: 0.7811 (0.0085)\n",
            "F1-score: 0.7312 (0.0148)\n",
            "Recall: 0.7167 (0.0139)\n",
            "AUC: 0.7167 (0.0139)\n"
          ]
        }
      ]
    },
    {
      "cell_type": "code",
      "source": [
        "conf_mat_mean = np.mean(lvq_conf_mat, axis=0)"
      ],
      "metadata": {
        "id": "2wl6AXciwH-s"
      },
      "execution_count": null,
      "outputs": []
    },
    {
      "cell_type": "code",
      "source": [
        "plot_confusion_matrix(conf_mat_mean,[\"g\",\"h\"])\n",
        "# plt.savefig('MC_LVQ.png', transparent=True, dpi=300, bbox_inches=\"tight\")"
      ],
      "metadata": {
        "colab": {
          "base_uri": "https://localhost:8080/",
          "height": 558
        },
        "id": "aCUKqO6nwInm",
        "outputId": "6922a931-31df-45a8-cede-2658aaba22f3"
      },
      "execution_count": null,
      "outputs": [
        {
          "output_type": "stream",
          "name": "stdout",
          "text": [
            "Confusion matrix, without normalization\n",
            "[[1151.7   81.5]\n",
            " [ 334.8  334. ]]\n"
          ]
        },
        {
          "output_type": "display_data",
          "data": {
            "text/plain": [
              "<Figure size 640x480 with 2 Axes>"
            ],
            "image/png": "[encoded data removed]"
          },
          "metadata": {}
        }
      ]
    },
    {
      "cell_type": "markdown",
      "source": [
        "###Decision Tree"
      ],
      "metadata": {
        "id": "Ge5sMMvnbC_m"
      }
    },
    {
      "cell_type": "code",
      "source": [
        "X_train, X_test, Y_train, Y_test = train_test_split(X_scaled, Y, train_size=0.8, random_state=42)"
      ],
      "metadata": {
        "id": "lCot5sDVqnOZ"
      },
      "execution_count": null,
      "outputs": []
    },
    {
      "cell_type": "code",
      "source": [
        "dt = DecisionTreeClassifier()\n",
        "# parâmetros do gridsearch\n",
        "params = dict()\n",
        "params = {\n",
        "  \"criterion\": [\"gini\", \"entropy\", \"log_loss\"],\n",
        "  \"splitter\": [\"best\", \"random\"]\n",
        "}\n",
        "\n",
        "# busca dos melhores parâmetros\n",
        "search = GridSearchCV(dt, params)\n",
        "\n",
        "# executa e salva os melhores parâmetros\n",
        "result = search.fit(X_train, Y_train)\n",
        "best_model = result.best_estimator_\n",
        "Y_pred = best_model.predict(X_test)\n",
        "print(\"Melhores parâmetros: \", result.best_params_)\n",
        "print(\"Melhor acuracia: \", accuracy_score(Y_test, Y_pred))\n",
        "print(\"Melhor f1-score: \", f1_score(Y_test, Y_pred, average=\"binary\", pos_label=\"g\"))"
      ],
      "metadata": {
        "colab": {
          "base_uri": "https://localhost:8080/"
        },
        "id": "DdGrrKfXqylC",
        "outputId": "990700c1-9af6-4cce-8730-ac908395da85"
      },
      "execution_count": null,
      "outputs": [
        {
          "output_type": "stream",
          "name": "stdout",
          "text": [
            "Melhores parâmetros:  {'criterion': 'entropy', 'splitter': 'best'}\n",
            "Melhor acuracia:  0.8201892744479495\n",
            "Melhor f1-score:  0.862540192926045\n"
          ]
        }
      ]
    },
    {
      "cell_type": "code",
      "source": [
        "dt_accuracy = list()\n",
        "dt_conf_mat = list()\n",
        "dt_f1 = list()\n",
        "dt_recall = list()\n",
        "dt_roc = list()"
      ],
      "metadata": {
        "id": "ggjNCCIp_TV8"
      },
      "execution_count": null,
      "outputs": []
    },
    {
      "cell_type": "code",
      "source": [
        "for train_ix, test_ix in kf.split(X_scaled, Y):\n",
        "  X_train, X_test = X_scaled[train_ix, :], X_scaled[test_ix, :]\n",
        "  Y_train, Y_test = Y[train_ix], Y[test_ix]\n",
        "\n",
        "  dt = DecisionTreeClassifier(criterion=\"entropy\", splitter=\"best\")\n",
        "  dt.fit(X_train, Y_train)\n",
        "  Y_pred = dt.predict(X_test)\n",
        "  Y_test_enc = le.fit_transform(Y_test)\n",
        "  Y_pred_enc = le.fit_transform(Y_pred)\n",
        "\n",
        "  # métricas\n",
        "  acc = accuracy_score(Y_test, Y_pred)\n",
        "  conf_mat = confusion_matrix(Y_test, Y_pred)\n",
        "  f1 = f1_score(Y_test, Y_pred, average=\"macro\")\n",
        "  recall = recall_score(Y_test, Y_pred, average=\"macro\")\n",
        "  roc = roc_auc_score(Y_test_enc, Y_pred_enc, multi_class=\"ovo\", average = \"macro\")\n",
        "\n",
        "  # armazenamento de métricas\n",
        "  dt_accuracy.append(acc)\n",
        "  dt_conf_mat.append(conf_mat)\n",
        "  dt_f1.append(f1)\n",
        "  dt_recall.append(recall)\n",
        "  dt_roc.append(roc)"
      ],
      "metadata": {
        "id": "N-9kJ6BF_fEF"
      },
      "execution_count": null,
      "outputs": []
    },
    {
      "cell_type": "code",
      "source": [
        "names = ['fLength', 'fWidth', 'fSize', 'fConc', 'fConc1', 'fAsym', 'fM3Long', 'fM3Trans', 'fAlpha', 'fDist', 'class']\n",
        "\n",
        "dot_data = export_graphviz(dt, out_file=None, feature_names=names[:-1], class_names=['g', 'h'], filled=True, rounded=True)\n",
        "graph = graphviz.Source(dot_data)\n",
        "graph.format = 'png'\n",
        "graph.render(\"decision_tree\")"
      ],
      "metadata": {
        "colab": {
          "base_uri": "https://localhost:8080/",
          "height": 53
        },
        "id": "UQ0GxDUnVFxQ",
        "outputId": "ac073e95-eb15-4109-b1a9-d52fab158095"
      },
      "execution_count": null,
      "outputs": [
        {
          "output_type": "stream",
          "name": "stderr",
          "text": [
            "dot: graph is too large for cairo-renderer bitmaps. Scaling by 0.469946 to fit\n"
          ]
        },
        {
          "output_type": "execute_result",
          "data": {
            "text/plain": [
              "'decision_tree.png'"
            ],
            "application/vnd.google.colaboratory.intrinsic+json": {
              "type": "string"
            }
          },
          "metadata": {},
          "execution_count": 77
        }
      ]
    },
    {
      "cell_type": "code",
      "source": [
        "plt.figure(figsize=(8, 6))\n",
        "plot_tree(dt, feature_names=names[:-1], class_names=['g', 'h'], filled=True, rounded=True, max_depth=3)\n",
        "plt.show()"
      ],
      "metadata": {
        "colab": {
          "base_uri": "https://localhost:8080/",
          "height": 499
        },
        "id": "zLJlLgXfC4a0",
        "outputId": "cc52a8ae-46f6-4560-b054-91c9c3f2d37a"
      },
      "execution_count": null,
      "outputs": [
        {
          "output_type": "display_data",
          "data": {
            "text/plain": [
              "<Figure size 800x600 with 1 Axes>"
            ],
            "image/png": "[encoded data removed]"
          },
          "metadata": {}
        }
      ]
    },
    {
      "cell_type": "code",
      "source": [
        "print(\"Accuracy: %.4f (%.4f)\" % (np.mean(dt_accuracy), np.std(dt_accuracy)))\n",
        "print(\"F1-score: %.4f (%.4f)\" % (np.mean(dt_f1), np.std(dt_f1)))\n",
        "print(\"Recall: %.4f (%.4f)\" % (np.mean(dt_recall), np.std(dt_recall)))\n",
        "print(\"AUC: %.4f (%.4f)\" % (np.mean(dt_roc), np.std(dt_roc)))"
      ],
      "metadata": {
        "colab": {
          "base_uri": "https://localhost:8080/"
        },
        "id": "5ka-rh5KAmPI",
        "outputId": "217497ef-e3d4-44d7-e5a8-0540ceda2189"
      },
      "execution_count": null,
      "outputs": [
        {
          "output_type": "stream",
          "name": "stdout",
          "text": [
            "Accuracy: 0.8218 (0.0097)\n",
            "F1-score: 0.8042 (0.0114)\n",
            "Recall: 0.8036 (0.0127)\n",
            "AUC: 0.8036 (0.0127)\n"
          ]
        }
      ]
    },
    {
      "cell_type": "code",
      "source": [
        "conf_mat_mean = np.mean(dt_conf_mat, axis=0)"
      ],
      "metadata": {
        "id": "zfnZpOWKApwT"
      },
      "execution_count": null,
      "outputs": []
    },
    {
      "cell_type": "code",
      "source": [
        "plot_confusion_matrix(conf_mat_mean,[\"g\",\"h\"])\n",
        "# plt.savefig('MC_DT.png', transparent=True, dpi=300, bbox_inches=\"tight\")"
      ],
      "metadata": {
        "colab": {
          "base_uri": "https://localhost:8080/",
          "height": 558
        },
        "id": "vMAoqgW-ArCI",
        "outputId": "5f4200c6-948d-400c-dcd3-c8bcd36b624b"
      },
      "execution_count": null,
      "outputs": [
        {
          "output_type": "stream",
          "name": "stdout",
          "text": [
            "Confusion matrix, without normalization\n",
            "[[1066.6  166.6]\n",
            " [ 172.3  496.5]]\n"
          ]
        },
        {
          "output_type": "display_data",
          "data": {
            "text/plain": [
              "<Figure size 640x480 with 2 Axes>"
            ],
            "image/png": "[encoded data removed]"
          },
          "metadata": {}
        }
      ]
    },
    {
      "cell_type": "markdown",
      "source": [
        "## Random forest"
      ],
      "metadata": {
        "id": "36PMMAjgyiSj"
      }
    },
    {
      "cell_type": "code",
      "source": [
        "X_train, X_test, Y_train, Y_test = train_test_split(X_scaled, Y, train_size=0.8, random_state=42)"
      ],
      "metadata": {
        "id": "kcODbm5spxeU"
      },
      "execution_count": null,
      "outputs": []
    },
    {
      "cell_type": "code",
      "source": [
        "rf = RandomForestClassifier()\n",
        "# parâmetros do gridsearch\n",
        "params = {\n",
        "  \"criterion\": [\"gini\", \"entropy\", \"log_loss\"]\n",
        "}\n",
        "\n",
        "# busca dos melhores parâmetros\n",
        "search = GridSearchCV(rf, params)\n",
        "\n",
        "# executa e salva os melhores parâmetros\n",
        "result = search.fit(X_train, Y_train)\n",
        "best_model = result.best_estimator_\n",
        "Y_pred = best_model.predict(X_test)\n",
        "print(\"Melhores parâmetros: \", result.best_params_)\n",
        "print(\"Melhor acurácia: \", accuracy_score(Y_test, Y_pred))\n",
        "print(\"Melhor f1-score: \", f1_score(Y_test, Y_pred, average=\"binary\", pos_label=\"g\"))"
      ],
      "metadata": {
        "colab": {
          "base_uri": "https://localhost:8080/"
        },
        "id": "nqzFNbCIp100",
        "outputId": "721882d6-a595-454b-fc92-4783834abd5b"
      },
      "execution_count": null,
      "outputs": [
        {
          "output_type": "stream",
          "name": "stdout",
          "text": [
            "Melhores parâmetros:  {'criterion': 'entropy'}\n",
            "Melhor acurácia:  0.8809148264984227\n",
            "Melhor f1-score:  0.9112634671890304\n"
          ]
        }
      ]
    },
    {
      "cell_type": "code",
      "source": [
        "rf_accuracy = list()\n",
        "rf_conf_mat = list()\n",
        "rf_f1 = list()\n",
        "rf_recall = list()\n",
        "rf_roc = list()"
      ],
      "metadata": {
        "id": "zdnmzYh1yk82"
      },
      "execution_count": null,
      "outputs": []
    },
    {
      "cell_type": "code",
      "source": [
        "for train_ix, test_ix in kf.split(X_scaled, Y):\n",
        "  X_train, X_test = X_scaled[train_ix, :], X_scaled[test_ix, :]\n",
        "  Y_train, Y_test = Y[train_ix], Y[test_ix]\n",
        "\n",
        "  rf = RandomForestClassifier(criterion=\"entropy\")\n",
        "  rf.fit(X_train, Y_train)\n",
        "  Y_pred = rf.predict(X_test)\n",
        "  Y_test_enc = le.fit_transform(Y_test)\n",
        "  Y_pred_enc = le.fit_transform(Y_pred)\n",
        "\n",
        "  # métricas\n",
        "  acc = accuracy_score(Y_test, Y_pred)\n",
        "  conf_mat = confusion_matrix(Y_test, Y_pred)\n",
        "  f1 = f1_score(Y_test, Y_pred, average=\"macro\")\n",
        "  recall = recall_score(Y_test, Y_pred, average=\"macro\")\n",
        "  roc = roc_auc_score(Y_test_enc, Y_pred_enc, multi_class=\"ovo\", average = \"macro\")\n",
        "\n",
        "  # armazenamento de métricas\n",
        "  rf_accuracy.append(acc)\n",
        "  rf_conf_mat.append(conf_mat)\n",
        "  rf_f1.append(f1)\n",
        "  rf_recall.append(recall)\n",
        "  rf_roc.append(roc)"
      ],
      "metadata": {
        "id": "ECBCfJWn0NmR"
      },
      "execution_count": null,
      "outputs": []
    },
    {
      "cell_type": "code",
      "source": [
        "print(\"Accuracy: %.4f (%.4f)\" % (np.mean(rf_accuracy), np.std(rf_accuracy)))\n",
        "print(\"F1-score: %.4f (%.4f)\" % (np.mean(rf_f1), np.std(rf_f1)))\n",
        "print(\"Recall: %.4f (%.4f)\" % (np.mean(rf_recall), np.std(rf_recall)))\n",
        "print(\"AUC: %.4f (%.4f)\" % (np.mean(rf_roc), np.std(rf_roc)))"
      ],
      "metadata": {
        "colab": {
          "base_uri": "https://localhost:8080/"
        },
        "id": "nUrKAEOj0VVv",
        "outputId": "51878635-8189-47ef-88b3-7e3ce2f60b4f"
      },
      "execution_count": null,
      "outputs": [
        {
          "output_type": "stream",
          "name": "stdout",
          "text": [
            "Accuracy: 0.8820 (0.0061)\n",
            "F1-score: 0.8662 (0.0069)\n",
            "Recall: 0.8553 (0.0072)\n",
            "AUC: 0.8553 (0.0072)\n"
          ]
        }
      ]
    },
    {
      "cell_type": "code",
      "source": [
        "conf_mat_mean_rf = np.mean(rf_conf_mat, axis=0)"
      ],
      "metadata": {
        "id": "q3a1wj1z0aiR"
      },
      "execution_count": null,
      "outputs": []
    },
    {
      "cell_type": "code",
      "source": [
        "plot_confusion_matrix(conf_mat_mean_rf, [\"g\",\"h\"])"
      ],
      "metadata": {
        "colab": {
          "base_uri": "https://localhost:8080/",
          "height": 558
        },
        "id": "XkfTjrAH0c66",
        "outputId": "bfd8a358-5d69-47eb-f1ee-74fe61aa427d"
      },
      "execution_count": null,
      "outputs": [
        {
          "output_type": "stream",
          "name": "stdout",
          "text": [
            "Confusion matrix, without normalization\n",
            "[[1165.9   67.3]\n",
            " [ 157.1  511.7]]\n"
          ]
        },
        {
          "output_type": "display_data",
          "data": {
            "text/plain": [
              "<Figure size 640x480 with 2 Axes>"
            ],
            "image/png": "[encoded data removed]"
          },
          "metadata": {}
        }
      ]
    },
    {
      "cell_type": "markdown",
      "source": [
        "## MLP"
      ],
      "metadata": {
        "id": "BxVm6LT1nsax"
      }
    },
    {
      "cell_type": "code",
      "source": [
        "X_train, X_test, Y_train, Y_test = train_test_split(X_scaled, Y, train_size=0.8, random_state=42)"
      ],
      "metadata": {
        "id": "NiDlS3_QsyUO"
      },
      "execution_count": null,
      "outputs": []
    },
    {
      "cell_type": "code",
      "source": [
        "mlp = MLPClassifier(max_iter=1000)\n",
        "# parâmetros do gridsearch\n",
        "params = {\n",
        "  \"hidden_layer_sizes\": [(20,), (50,), (100,)],\n",
        "  \"activation\": [\"identity\", \"relu\"]\n",
        "}\n",
        "\n",
        "# busca dos melhores parâmetros\n",
        "search = GridSearchCV(mlp, params)\n",
        "\n",
        "# executa e salva os melhores parâmetros\n",
        "result = search.fit(X_train, Y_train)\n",
        "best_model = result.best_estimator_\n",
        "Y_pred = best_model.predict(X_test)\n",
        "print(\"Melhores parâmetros: \", result.best_params_)\n",
        "print(\"Melhor acurácia: \", accuracy_score(Y_test, Y_pred))\n",
        "print(\"Melhor f1-score: \", f1_score(Y_test, Y_pred, average=\"binary\", pos_label=\"g\"))"
      ],
      "metadata": {
        "colab": {
          "base_uri": "https://localhost:8080/"
        },
        "id": "jv2v8SsRsy0A",
        "outputId": "81614ab1-140f-46f1-86e8-64777b52539d"
      },
      "execution_count": null,
      "outputs": [
        {
          "output_type": "stream",
          "name": "stdout",
          "text": [
            "Melhores parâmetros:  {'activation': 'relu', 'hidden_layer_sizes': (100,)}\n",
            "Melhor acurácia:  0.8751314405888538\n",
            "Melhor f1-score:  0.9074254531280451\n"
          ]
        }
      ]
    },
    {
      "cell_type": "code",
      "source": [
        "mlp_accuracy = list()\n",
        "mlp_conf_mat = list()\n",
        "mlp_f1 = list()\n",
        "mlp_recall = list()\n",
        "mlp_roc = list()"
      ],
      "metadata": {
        "id": "njyyh4iontma"
      },
      "execution_count": null,
      "outputs": []
    },
    {
      "cell_type": "code",
      "source": [
        "for train_ix, test_ix in kf.split(X_scaled, Y):\n",
        "  X_train, X_test = X_scaled[train_ix, :], X_scaled[test_ix, :]\n",
        "  Y_train, Y_test = Y[train_ix], Y[test_ix]\n",
        "\n",
        "  mlp = MLPClassifier(max_iter=1000, hidden_layer_sizes=(100,), activation=\"relu\")\n",
        "  mlp.fit(X_train, Y_train)\n",
        "  Y_pred = mlp.predict(X_test)\n",
        "  Y_test_enc = le.fit_transform(Y_test)\n",
        "  Y_pred_enc = le.fit_transform(Y_pred)\n",
        "\n",
        "  # métricas\n",
        "  acc = accuracy_score(Y_test, Y_pred)\n",
        "  conf_mat = confusion_matrix(Y_test, Y_pred)\n",
        "  f1 = f1_score(Y_test, Y_pred, average=\"macro\")\n",
        "  recall = recall_score(Y_test, Y_pred, average=\"macro\")\n",
        "  roc = roc_auc_score(Y_test_enc, Y_pred_enc, multi_class=\"ovo\", average = \"macro\")\n",
        "\n",
        "  # armazenamento de métricas\n",
        "  mlp_accuracy.append(acc)\n",
        "  mlp_conf_mat.append(conf_mat)\n",
        "  mlp_f1.append(f1)\n",
        "  mlp_recall.append(recall)\n",
        "  mlp_roc.append(roc)"
      ],
      "metadata": {
        "id": "xE51ce4xo7Q8"
      },
      "execution_count": null,
      "outputs": []
    },
    {
      "cell_type": "code",
      "source": [
        "print(\"Accuracy: %.4f (%.4f)\" % (np.mean(mlp_accuracy), np.std(mlp_accuracy)))\n",
        "print(\"F1-score: %.4f (%.4f)\" % (np.mean(mlp_f1), np.std(mlp_f1)))\n",
        "print(\"Recall: %.4f (%.4f)\" % (np.mean(mlp_recall), np.std(mlp_recall)))\n",
        "print(\"AUC: %.4f (%.4f)\" % (np.mean(mlp_roc), np.std(mlp_roc)))"
      ],
      "metadata": {
        "colab": {
          "base_uri": "https://localhost:8080/"
        },
        "id": "2f9izs5Eughy",
        "outputId": "b6ca1880-31f7-416f-e73f-6db39a6f85c1"
      },
      "execution_count": null,
      "outputs": [
        {
          "output_type": "stream",
          "name": "stdout",
          "text": [
            "Accuracy: 0.8773 (0.0058)\n",
            "F1-score: 0.8607 (0.0070)\n",
            "Recall: 0.8498 (0.0082)\n",
            "AUC: 0.8498 (0.0082)\n"
          ]
        }
      ]
    },
    {
      "cell_type": "code",
      "source": [
        "conf_mat_mean_mlp = np.mean(mlp_conf_mat, axis=0)"
      ],
      "metadata": {
        "id": "Yg4O_rEFunhS"
      },
      "execution_count": null,
      "outputs": []
    },
    {
      "cell_type": "code",
      "source": [
        "plot_confusion_matrix(conf_mat_mean_mlp, [\"g\",\"h\"])"
      ],
      "metadata": {
        "colab": {
          "base_uri": "https://localhost:8080/",
          "height": 558
        },
        "id": "G0W5KWfEwYqh",
        "outputId": "7279e51c-d62e-4a7b-f83b-55a839c5a026"
      },
      "execution_count": null,
      "outputs": [
        {
          "output_type": "stream",
          "name": "stdout",
          "text": [
            "Confusion matrix, without normalization\n",
            "[[1162.5   70.7]\n",
            " [ 162.6  506.2]]\n"
          ]
        },
        {
          "output_type": "display_data",
          "data": {
            "text/plain": [
              "<Figure size 640x480 with 2 Axes>"
            ],
            "image/png": "[encoded data removed]"
          },
          "metadata": {}
        }
      ]
    },
    {
      "cell_type": "markdown",
      "source": [
        "###SVM"
      ],
      "metadata": {
        "id": "8TOeLRO61t20"
      }
    },
    {
      "cell_type": "code",
      "source": [
        "X_train, X_test, Y_train, Y_test = train_test_split(X_scaled, Y, train_size=0.8, random_state=42)"
      ],
      "metadata": {
        "id": "dEeSRrfwVYzP"
      },
      "execution_count": null,
      "outputs": []
    },
    {
      "cell_type": "code",
      "source": [
        "svm = SVC(max_iter=1000)\n",
        "# parâmetros do gridsearch\n",
        "params = {\n",
        "      \"C\": [0.1,1,5],\n",
        "      \"gamma\": [\"scale\", \"auto\"],\n",
        "      \"kernel\": [\"poly\", \"rbf\", \"sigmoid\"]\n",
        "      }\n",
        "\n",
        "# busca dos melhores parâmetros\n",
        "search = GridSearchCV(svm, params)\n",
        "\n",
        "# executa e salva os melhores parâmetros\n",
        "result = search.fit(X_train, Y_train)\n",
        "best_model = result.best_estimator_\n",
        "Y_pred = best_model.predict(X_test)\n",
        "print(\"Melhores parâmetros: \", result.best_params_)\n",
        "print(\"Melhor f1-score: \", f1_score(Y_test, Y_pred, average=\"binary\", pos_label=\"g\"))"
      ],
      "metadata": {
        "id": "5Bhan1Y1VZjO",
        "colab": {
          "base_uri": "https://localhost:8080/"
        },
        "outputId": "63d503c5-c75d-4a5b-9b18-bde17b4fc0b8"
      },
      "execution_count": null,
      "outputs": [
        {
          "output_type": "stream",
          "name": "stderr",
          "text": [
            "/usr/local/lib/python3.10/dist-packages/sklearn/svm/_base.py:299: ConvergenceWarning: Solver terminated early (max_iter=1000).  Consider pre-processing your data with StandardScaler or MinMaxScaler.\n",
            "  warnings.warn(\n",
            "/usr/local/lib/python3.10/dist-packages/sklearn/svm/_base.py:299: ConvergenceWarning: Solver terminated early (max_iter=1000).  Consider pre-processing your data with StandardScaler or MinMaxScaler.\n",
            "  warnings.warn(\n",
            "/usr/local/lib/python3.10/dist-packages/sklearn/svm/_base.py:299: ConvergenceWarning: Solver terminated early (max_iter=1000).  Consider pre-processing your data with StandardScaler or MinMaxScaler.\n",
            "  warnings.warn(\n",
            "/usr/local/lib/python3.10/dist-packages/sklearn/svm/_base.py:299: ConvergenceWarning: Solver terminated early (max_iter=1000).  Consider pre-processing your data with StandardScaler or MinMaxScaler.\n",
            "  warnings.warn(\n",
            "/usr/local/lib/python3.10/dist-packages/sklearn/svm/_base.py:299: ConvergenceWarning: Solver terminated early (max_iter=1000).  Consider pre-processing your data with StandardScaler or MinMaxScaler.\n",
            "  warnings.warn(\n",
            "/usr/local/lib/python3.10/dist-packages/sklearn/svm/_base.py:299: ConvergenceWarning: Solver terminated early (max_iter=1000).  Consider pre-processing your data with StandardScaler or MinMaxScaler.\n",
            "  warnings.warn(\n",
            "/usr/local/lib/python3.10/dist-packages/sklearn/svm/_base.py:299: ConvergenceWarning: Solver terminated early (max_iter=1000).  Consider pre-processing your data with StandardScaler or MinMaxScaler.\n",
            "  warnings.warn(\n",
            "/usr/local/lib/python3.10/dist-packages/sklearn/svm/_base.py:299: ConvergenceWarning: Solver terminated early (max_iter=1000).  Consider pre-processing your data with StandardScaler or MinMaxScaler.\n",
            "  warnings.warn(\n",
            "/usr/local/lib/python3.10/dist-packages/sklearn/svm/_base.py:299: ConvergenceWarning: Solver terminated early (max_iter=1000).  Consider pre-processing your data with StandardScaler or MinMaxScaler.\n",
            "  warnings.warn(\n",
            "/usr/local/lib/python3.10/dist-packages/sklearn/svm/_base.py:299: ConvergenceWarning: Solver terminated early (max_iter=1000).  Consider pre-processing your data with StandardScaler or MinMaxScaler.\n",
            "  warnings.warn(\n",
            "/usr/local/lib/python3.10/dist-packages/sklearn/svm/_base.py:299: ConvergenceWarning: Solver terminated early (max_iter=1000).  Consider pre-processing your data with StandardScaler or MinMaxScaler.\n",
            "  warnings.warn(\n",
            "/usr/local/lib/python3.10/dist-packages/sklearn/svm/_base.py:299: ConvergenceWarning: Solver terminated early (max_iter=1000).  Consider pre-processing your data with StandardScaler or MinMaxScaler.\n",
            "  warnings.warn(\n",
            "/usr/local/lib/python3.10/dist-packages/sklearn/svm/_base.py:299: ConvergenceWarning: Solver terminated early (max_iter=1000).  Consider pre-processing your data with StandardScaler or MinMaxScaler.\n",
            "  warnings.warn(\n",
            "/usr/local/lib/python3.10/dist-packages/sklearn/svm/_base.py:299: ConvergenceWarning: Solver terminated early (max_iter=1000).  Consider pre-processing your data with StandardScaler or MinMaxScaler.\n",
            "  warnings.warn(\n",
            "/usr/local/lib/python3.10/dist-packages/sklearn/svm/_base.py:299: ConvergenceWarning: Solver terminated early (max_iter=1000).  Consider pre-processing your data with StandardScaler or MinMaxScaler.\n",
            "  warnings.warn(\n",
            "/usr/local/lib/python3.10/dist-packages/sklearn/svm/_base.py:299: ConvergenceWarning: Solver terminated early (max_iter=1000).  Consider pre-processing your data with StandardScaler or MinMaxScaler.\n",
            "  warnings.warn(\n",
            "/usr/local/lib/python3.10/dist-packages/sklearn/svm/_base.py:299: ConvergenceWarning: Solver terminated early (max_iter=1000).  Consider pre-processing your data with StandardScaler or MinMaxScaler.\n",
            "  warnings.warn(\n",
            "/usr/local/lib/python3.10/dist-packages/sklearn/svm/_base.py:299: ConvergenceWarning: Solver terminated early (max_iter=1000).  Consider pre-processing your data with StandardScaler or MinMaxScaler.\n",
            "  warnings.warn(\n",
            "/usr/local/lib/python3.10/dist-packages/sklearn/svm/_base.py:299: ConvergenceWarning: Solver terminated early (max_iter=1000).  Consider pre-processing your data with StandardScaler or MinMaxScaler.\n",
            "  warnings.warn(\n",
            "/usr/local/lib/python3.10/dist-packages/sklearn/svm/_base.py:299: ConvergenceWarning: Solver terminated early (max_iter=1000).  Consider pre-processing your data with StandardScaler or MinMaxScaler.\n",
            "  warnings.warn(\n",
            "/usr/local/lib/python3.10/dist-packages/sklearn/svm/_base.py:299: ConvergenceWarning: Solver terminated early (max_iter=1000).  Consider pre-processing your data with StandardScaler or MinMaxScaler.\n",
            "  warnings.warn(\n",
            "/usr/local/lib/python3.10/dist-packages/sklearn/svm/_base.py:299: ConvergenceWarning: Solver terminated early (max_iter=1000).  Consider pre-processing your data with StandardScaler or MinMaxScaler.\n",
            "  warnings.warn(\n",
            "/usr/local/lib/python3.10/dist-packages/sklearn/svm/_base.py:299: ConvergenceWarning: Solver terminated early (max_iter=1000).  Consider pre-processing your data with StandardScaler or MinMaxScaler.\n",
            "  warnings.warn(\n",
            "/usr/local/lib/python3.10/dist-packages/sklearn/svm/_base.py:299: ConvergenceWarning: Solver terminated early (max_iter=1000).  Consider pre-processing your data with StandardScaler or MinMaxScaler.\n",
            "  warnings.warn(\n",
            "/usr/local/lib/python3.10/dist-packages/sklearn/svm/_base.py:299: ConvergenceWarning: Solver terminated early (max_iter=1000).  Consider pre-processing your data with StandardScaler or MinMaxScaler.\n",
            "  warnings.warn(\n",
            "/usr/local/lib/python3.10/dist-packages/sklearn/svm/_base.py:299: ConvergenceWarning: Solver terminated early (max_iter=1000).  Consider pre-processing your data with StandardScaler or MinMaxScaler.\n",
            "  warnings.warn(\n",
            "/usr/local/lib/python3.10/dist-packages/sklearn/svm/_base.py:299: ConvergenceWarning: Solver terminated early (max_iter=1000).  Consider pre-processing your data with StandardScaler or MinMaxScaler.\n",
            "  warnings.warn(\n",
            "/usr/local/lib/python3.10/dist-packages/sklearn/svm/_base.py:299: ConvergenceWarning: Solver terminated early (max_iter=1000).  Consider pre-processing your data with StandardScaler or MinMaxScaler.\n",
            "  warnings.warn(\n",
            "/usr/local/lib/python3.10/dist-packages/sklearn/svm/_base.py:299: ConvergenceWarning: Solver terminated early (max_iter=1000).  Consider pre-processing your data with StandardScaler or MinMaxScaler.\n",
            "  warnings.warn(\n",
            "/usr/local/lib/python3.10/dist-packages/sklearn/svm/_base.py:299: ConvergenceWarning: Solver terminated early (max_iter=1000).  Consider pre-processing your data with StandardScaler or MinMaxScaler.\n",
            "  warnings.warn(\n",
            "/usr/local/lib/python3.10/dist-packages/sklearn/svm/_base.py:299: ConvergenceWarning: Solver terminated early (max_iter=1000).  Consider pre-processing your data with StandardScaler or MinMaxScaler.\n",
            "  warnings.warn(\n",
            "/usr/local/lib/python3.10/dist-packages/sklearn/svm/_base.py:299: ConvergenceWarning: Solver terminated early (max_iter=1000).  Consider pre-processing your data with StandardScaler or MinMaxScaler.\n",
            "  warnings.warn(\n",
            "/usr/local/lib/python3.10/dist-packages/sklearn/svm/_base.py:299: ConvergenceWarning: Solver terminated early (max_iter=1000).  Consider pre-processing your data with StandardScaler or MinMaxScaler.\n",
            "  warnings.warn(\n",
            "/usr/local/lib/python3.10/dist-packages/sklearn/svm/_base.py:299: ConvergenceWarning: Solver terminated early (max_iter=1000).  Consider pre-processing your data with StandardScaler or MinMaxScaler.\n",
            "  warnings.warn(\n",
            "/usr/local/lib/python3.10/dist-packages/sklearn/svm/_base.py:299: ConvergenceWarning: Solver terminated early (max_iter=1000).  Consider pre-processing your data with StandardScaler or MinMaxScaler.\n",
            "  warnings.warn(\n",
            "/usr/local/lib/python3.10/dist-packages/sklearn/svm/_base.py:299: ConvergenceWarning: Solver terminated early (max_iter=1000).  Consider pre-processing your data with StandardScaler or MinMaxScaler.\n",
            "  warnings.warn(\n",
            "/usr/local/lib/python3.10/dist-packages/sklearn/svm/_base.py:299: ConvergenceWarning: Solver terminated early (max_iter=1000).  Consider pre-processing your data with StandardScaler or MinMaxScaler.\n",
            "  warnings.warn(\n",
            "/usr/local/lib/python3.10/dist-packages/sklearn/svm/_base.py:299: ConvergenceWarning: Solver terminated early (max_iter=1000).  Consider pre-processing your data with StandardScaler or MinMaxScaler.\n",
            "  warnings.warn(\n",
            "/usr/local/lib/python3.10/dist-packages/sklearn/svm/_base.py:299: ConvergenceWarning: Solver terminated early (max_iter=1000).  Consider pre-processing your data with StandardScaler or MinMaxScaler.\n",
            "  warnings.warn(\n",
            "/usr/local/lib/python3.10/dist-packages/sklearn/svm/_base.py:299: ConvergenceWarning: Solver terminated early (max_iter=1000).  Consider pre-processing your data with StandardScaler or MinMaxScaler.\n",
            "  warnings.warn(\n",
            "/usr/local/lib/python3.10/dist-packages/sklearn/svm/_base.py:299: ConvergenceWarning: Solver terminated early (max_iter=1000).  Consider pre-processing your data with StandardScaler or MinMaxScaler.\n",
            "  warnings.warn(\n",
            "/usr/local/lib/python3.10/dist-packages/sklearn/svm/_base.py:299: ConvergenceWarning: Solver terminated early (max_iter=1000).  Consider pre-processing your data with StandardScaler or MinMaxScaler.\n",
            "  warnings.warn(\n",
            "/usr/local/lib/python3.10/dist-packages/sklearn/svm/_base.py:299: ConvergenceWarning: Solver terminated early (max_iter=1000).  Consider pre-processing your data with StandardScaler or MinMaxScaler.\n",
            "  warnings.warn(\n",
            "/usr/local/lib/python3.10/dist-packages/sklearn/svm/_base.py:299: ConvergenceWarning: Solver terminated early (max_iter=1000).  Consider pre-processing your data with StandardScaler or MinMaxScaler.\n",
            "  warnings.warn(\n",
            "/usr/local/lib/python3.10/dist-packages/sklearn/svm/_base.py:299: ConvergenceWarning: Solver terminated early (max_iter=1000).  Consider pre-processing your data with StandardScaler or MinMaxScaler.\n",
            "  warnings.warn(\n",
            "/usr/local/lib/python3.10/dist-packages/sklearn/svm/_base.py:299: ConvergenceWarning: Solver terminated early (max_iter=1000).  Consider pre-processing your data with StandardScaler or MinMaxScaler.\n",
            "  warnings.warn(\n",
            "/usr/local/lib/python3.10/dist-packages/sklearn/svm/_base.py:299: ConvergenceWarning: Solver terminated early (max_iter=1000).  Consider pre-processing your data with StandardScaler or MinMaxScaler.\n",
            "  warnings.warn(\n",
            "/usr/local/lib/python3.10/dist-packages/sklearn/svm/_base.py:299: ConvergenceWarning: Solver terminated early (max_iter=1000).  Consider pre-processing your data with StandardScaler or MinMaxScaler.\n",
            "  warnings.warn(\n",
            "/usr/local/lib/python3.10/dist-packages/sklearn/svm/_base.py:299: ConvergenceWarning: Solver terminated early (max_iter=1000).  Consider pre-processing your data with StandardScaler or MinMaxScaler.\n",
            "  warnings.warn(\n",
            "/usr/local/lib/python3.10/dist-packages/sklearn/svm/_base.py:299: ConvergenceWarning: Solver terminated early (max_iter=1000).  Consider pre-processing your data with StandardScaler or MinMaxScaler.\n",
            "  warnings.warn(\n",
            "/usr/local/lib/python3.10/dist-packages/sklearn/svm/_base.py:299: ConvergenceWarning: Solver terminated early (max_iter=1000).  Consider pre-processing your data with StandardScaler or MinMaxScaler.\n",
            "  warnings.warn(\n",
            "/usr/local/lib/python3.10/dist-packages/sklearn/svm/_base.py:299: ConvergenceWarning: Solver terminated early (max_iter=1000).  Consider pre-processing your data with StandardScaler or MinMaxScaler.\n",
            "  warnings.warn(\n",
            "/usr/local/lib/python3.10/dist-packages/sklearn/svm/_base.py:299: ConvergenceWarning: Solver terminated early (max_iter=1000).  Consider pre-processing your data with StandardScaler or MinMaxScaler.\n",
            "  warnings.warn(\n",
            "/usr/local/lib/python3.10/dist-packages/sklearn/svm/_base.py:299: ConvergenceWarning: Solver terminated early (max_iter=1000).  Consider pre-processing your data with StandardScaler or MinMaxScaler.\n",
            "  warnings.warn(\n",
            "/usr/local/lib/python3.10/dist-packages/sklearn/svm/_base.py:299: ConvergenceWarning: Solver terminated early (max_iter=1000).  Consider pre-processing your data with StandardScaler or MinMaxScaler.\n",
            "  warnings.warn(\n",
            "/usr/local/lib/python3.10/dist-packages/sklearn/svm/_base.py:299: ConvergenceWarning: Solver terminated early (max_iter=1000).  Consider pre-processing your data with StandardScaler or MinMaxScaler.\n",
            "  warnings.warn(\n",
            "/usr/local/lib/python3.10/dist-packages/sklearn/svm/_base.py:299: ConvergenceWarning: Solver terminated early (max_iter=1000).  Consider pre-processing your data with StandardScaler or MinMaxScaler.\n",
            "  warnings.warn(\n",
            "/usr/local/lib/python3.10/dist-packages/sklearn/svm/_base.py:299: ConvergenceWarning: Solver terminated early (max_iter=1000).  Consider pre-processing your data with StandardScaler or MinMaxScaler.\n",
            "  warnings.warn(\n",
            "/usr/local/lib/python3.10/dist-packages/sklearn/svm/_base.py:299: ConvergenceWarning: Solver terminated early (max_iter=1000).  Consider pre-processing your data with StandardScaler or MinMaxScaler.\n",
            "  warnings.warn(\n",
            "/usr/local/lib/python3.10/dist-packages/sklearn/svm/_base.py:299: ConvergenceWarning: Solver terminated early (max_iter=1000).  Consider pre-processing your data with StandardScaler or MinMaxScaler.\n",
            "  warnings.warn(\n",
            "/usr/local/lib/python3.10/dist-packages/sklearn/svm/_base.py:299: ConvergenceWarning: Solver terminated early (max_iter=1000).  Consider pre-processing your data with StandardScaler or MinMaxScaler.\n",
            "  warnings.warn(\n",
            "/usr/local/lib/python3.10/dist-packages/sklearn/svm/_base.py:299: ConvergenceWarning: Solver terminated early (max_iter=1000).  Consider pre-processing your data with StandardScaler or MinMaxScaler.\n",
            "  warnings.warn(\n",
            "/usr/local/lib/python3.10/dist-packages/sklearn/svm/_base.py:299: ConvergenceWarning: Solver terminated early (max_iter=1000).  Consider pre-processing your data with StandardScaler or MinMaxScaler.\n",
            "  warnings.warn(\n",
            "/usr/local/lib/python3.10/dist-packages/sklearn/svm/_base.py:299: ConvergenceWarning: Solver terminated early (max_iter=1000).  Consider pre-processing your data with StandardScaler or MinMaxScaler.\n",
            "  warnings.warn(\n",
            "/usr/local/lib/python3.10/dist-packages/sklearn/svm/_base.py:299: ConvergenceWarning: Solver terminated early (max_iter=1000).  Consider pre-processing your data with StandardScaler or MinMaxScaler.\n",
            "  warnings.warn(\n",
            "/usr/local/lib/python3.10/dist-packages/sklearn/svm/_base.py:299: ConvergenceWarning: Solver terminated early (max_iter=1000).  Consider pre-processing your data with StandardScaler or MinMaxScaler.\n",
            "  warnings.warn(\n",
            "/usr/local/lib/python3.10/dist-packages/sklearn/svm/_base.py:299: ConvergenceWarning: Solver terminated early (max_iter=1000).  Consider pre-processing your data with StandardScaler or MinMaxScaler.\n",
            "  warnings.warn(\n",
            "/usr/local/lib/python3.10/dist-packages/sklearn/svm/_base.py:299: ConvergenceWarning: Solver terminated early (max_iter=1000).  Consider pre-processing your data with StandardScaler or MinMaxScaler.\n",
            "  warnings.warn(\n",
            "/usr/local/lib/python3.10/dist-packages/sklearn/svm/_base.py:299: ConvergenceWarning: Solver terminated early (max_iter=1000).  Consider pre-processing your data with StandardScaler or MinMaxScaler.\n",
            "  warnings.warn(\n",
            "/usr/local/lib/python3.10/dist-packages/sklearn/svm/_base.py:299: ConvergenceWarning: Solver terminated early (max_iter=1000).  Consider pre-processing your data with StandardScaler or MinMaxScaler.\n",
            "  warnings.warn(\n",
            "/usr/local/lib/python3.10/dist-packages/sklearn/svm/_base.py:299: ConvergenceWarning: Solver terminated early (max_iter=1000).  Consider pre-processing your data with StandardScaler or MinMaxScaler.\n",
            "  warnings.warn(\n",
            "/usr/local/lib/python3.10/dist-packages/sklearn/svm/_base.py:299: ConvergenceWarning: Solver terminated early (max_iter=1000).  Consider pre-processing your data with StandardScaler or MinMaxScaler.\n",
            "  warnings.warn(\n",
            "/usr/local/lib/python3.10/dist-packages/sklearn/svm/_base.py:299: ConvergenceWarning: Solver terminated early (max_iter=1000).  Consider pre-processing your data with StandardScaler or MinMaxScaler.\n",
            "  warnings.warn(\n",
            "/usr/local/lib/python3.10/dist-packages/sklearn/svm/_base.py:299: ConvergenceWarning: Solver terminated early (max_iter=1000).  Consider pre-processing your data with StandardScaler or MinMaxScaler.\n",
            "  warnings.warn(\n",
            "/usr/local/lib/python3.10/dist-packages/sklearn/svm/_base.py:299: ConvergenceWarning: Solver terminated early (max_iter=1000).  Consider pre-processing your data with StandardScaler or MinMaxScaler.\n",
            "  warnings.warn(\n",
            "/usr/local/lib/python3.10/dist-packages/sklearn/svm/_base.py:299: ConvergenceWarning: Solver terminated early (max_iter=1000).  Consider pre-processing your data with StandardScaler or MinMaxScaler.\n",
            "  warnings.warn(\n",
            "/usr/local/lib/python3.10/dist-packages/sklearn/svm/_base.py:299: ConvergenceWarning: Solver terminated early (max_iter=1000).  Consider pre-processing your data with StandardScaler or MinMaxScaler.\n",
            "  warnings.warn(\n",
            "/usr/local/lib/python3.10/dist-packages/sklearn/svm/_base.py:299: ConvergenceWarning: Solver terminated early (max_iter=1000).  Consider pre-processing your data with StandardScaler or MinMaxScaler.\n",
            "  warnings.warn(\n",
            "/usr/local/lib/python3.10/dist-packages/sklearn/svm/_base.py:299: ConvergenceWarning: Solver terminated early (max_iter=1000).  Consider pre-processing your data with StandardScaler or MinMaxScaler.\n",
            "  warnings.warn(\n",
            "/usr/local/lib/python3.10/dist-packages/sklearn/svm/_base.py:299: ConvergenceWarning: Solver terminated early (max_iter=1000).  Consider pre-processing your data with StandardScaler or MinMaxScaler.\n",
            "  warnings.warn(\n",
            "/usr/local/lib/python3.10/dist-packages/sklearn/svm/_base.py:299: ConvergenceWarning: Solver terminated early (max_iter=1000).  Consider pre-processing your data with StandardScaler or MinMaxScaler.\n",
            "  warnings.warn(\n",
            "/usr/local/lib/python3.10/dist-packages/sklearn/svm/_base.py:299: ConvergenceWarning: Solver terminated early (max_iter=1000).  Consider pre-processing your data with StandardScaler or MinMaxScaler.\n",
            "  warnings.warn(\n",
            "/usr/local/lib/python3.10/dist-packages/sklearn/svm/_base.py:299: ConvergenceWarning: Solver terminated early (max_iter=1000).  Consider pre-processing your data with StandardScaler or MinMaxScaler.\n",
            "  warnings.warn(\n",
            "/usr/local/lib/python3.10/dist-packages/sklearn/svm/_base.py:299: ConvergenceWarning: Solver terminated early (max_iter=1000).  Consider pre-processing your data with StandardScaler or MinMaxScaler.\n",
            "  warnings.warn(\n",
            "/usr/local/lib/python3.10/dist-packages/sklearn/svm/_base.py:299: ConvergenceWarning: Solver terminated early (max_iter=1000).  Consider pre-processing your data with StandardScaler or MinMaxScaler.\n",
            "  warnings.warn(\n",
            "/usr/local/lib/python3.10/dist-packages/sklearn/svm/_base.py:299: ConvergenceWarning: Solver terminated early (max_iter=1000).  Consider pre-processing your data with StandardScaler or MinMaxScaler.\n",
            "  warnings.warn(\n",
            "/usr/local/lib/python3.10/dist-packages/sklearn/svm/_base.py:299: ConvergenceWarning: Solver terminated early (max_iter=1000).  Consider pre-processing your data with StandardScaler or MinMaxScaler.\n",
            "  warnings.warn(\n",
            "/usr/local/lib/python3.10/dist-packages/sklearn/svm/_base.py:299: ConvergenceWarning: Solver terminated early (max_iter=1000).  Consider pre-processing your data with StandardScaler or MinMaxScaler.\n",
            "  warnings.warn(\n",
            "/usr/local/lib/python3.10/dist-packages/sklearn/svm/_base.py:299: ConvergenceWarning: Solver terminated early (max_iter=1000).  Consider pre-processing your data with StandardScaler or MinMaxScaler.\n",
            "  warnings.warn(\n",
            "/usr/local/lib/python3.10/dist-packages/sklearn/svm/_base.py:299: ConvergenceWarning: Solver terminated early (max_iter=1000).  Consider pre-processing your data with StandardScaler or MinMaxScaler.\n",
            "  warnings.warn(\n",
            "/usr/local/lib/python3.10/dist-packages/sklearn/svm/_base.py:299: ConvergenceWarning: Solver terminated early (max_iter=1000).  Consider pre-processing your data with StandardScaler or MinMaxScaler.\n",
            "  warnings.warn(\n"
          ]
        },
        {
          "output_type": "stream",
          "name": "stdout",
          "text": [
            "Melhores parâmetros:  {'C': 1, 'gamma': 'auto', 'kernel': 'rbf'}\n",
            "Melhor f1-score:  0.6410488245931284\n"
          ]
        }
      ]
    },
    {
      "cell_type": "code",
      "source": [
        "svm_accuracy = list()\n",
        "svm_conf_mat = list()\n",
        "svm_f1 = list()\n",
        "svm_recall = list()\n",
        "svm_roc = list()"
      ],
      "metadata": {
        "id": "tbQsP-INVfFd"
      },
      "execution_count": null,
      "outputs": []
    },
    {
      "cell_type": "code",
      "source": [
        "for train_ix, test_ix in kf.split(X_scaled, Y):\n",
        "  X_train, X_test = X_scaled[train_ix, :], X_scaled[test_ix, :]\n",
        "  Y_train, Y_test = Y[train_ix], Y[test_ix]\n",
        "\n",
        "  svm = SVC(max_iter=1000, C=1, gamma=\"auto\", kernel=\"rbf\")\n",
        "  svm.fit(X_train, Y_train)\n",
        "  Y_pred = svm.predict(X_test)\n",
        "  Y_test_enc = le.fit_transform(Y_test)\n",
        "  Y_pred_enc = le.fit_transform(Y_pred)\n",
        "\n",
        "  # métricas\n",
        "  acc = accuracy_score(Y_test, Y_pred)\n",
        "  conf_mat = confusion_matrix(Y_test, Y_pred)\n",
        "  f1 = f1_score(Y_test, Y_pred, average=\"macro\")\n",
        "  recall = recall_score(Y_test, Y_pred, average=\"macro\")\n",
        "  roc = roc_auc_score(Y_test_enc, Y_pred_enc, multi_class=\"ovo\", average = \"macro\")\n",
        "\n",
        "  # armazenamento de métricas\n",
        "  svm_accuracy.append(acc)\n",
        "  svm_conf_mat.append(conf_mat)\n",
        "  svm_f1.append(f1)\n",
        "  svm_recall.append(recall)\n",
        "  svm_roc.append(roc)"
      ],
      "metadata": {
        "id": "n2XyYmLcVxgL",
        "colab": {
          "base_uri": "https://localhost:8080/"
        },
        "outputId": "08b0b9c1-a626-4d9d-c84c-74dbca1d5a65"
      },
      "execution_count": null,
      "outputs": [
        {
          "output_type": "stream",
          "name": "stderr",
          "text": [
            "/usr/local/lib/python3.10/dist-packages/sklearn/svm/_base.py:299: ConvergenceWarning: Solver terminated early (max_iter=1000).  Consider pre-processing your data with StandardScaler or MinMaxScaler.\n",
            "  warnings.warn(\n",
            "/usr/local/lib/python3.10/dist-packages/sklearn/svm/_base.py:299: ConvergenceWarning: Solver terminated early (max_iter=1000).  Consider pre-processing your data with StandardScaler or MinMaxScaler.\n",
            "  warnings.warn(\n",
            "/usr/local/lib/python3.10/dist-packages/sklearn/svm/_base.py:299: ConvergenceWarning: Solver terminated early (max_iter=1000).  Consider pre-processing your data with StandardScaler or MinMaxScaler.\n",
            "  warnings.warn(\n",
            "/usr/local/lib/python3.10/dist-packages/sklearn/svm/_base.py:299: ConvergenceWarning: Solver terminated early (max_iter=1000).  Consider pre-processing your data with StandardScaler or MinMaxScaler.\n",
            "  warnings.warn(\n",
            "/usr/local/lib/python3.10/dist-packages/sklearn/svm/_base.py:299: ConvergenceWarning: Solver terminated early (max_iter=1000).  Consider pre-processing your data with StandardScaler or MinMaxScaler.\n",
            "  warnings.warn(\n",
            "/usr/local/lib/python3.10/dist-packages/sklearn/svm/_base.py:299: ConvergenceWarning: Solver terminated early (max_iter=1000).  Consider pre-processing your data with StandardScaler or MinMaxScaler.\n",
            "  warnings.warn(\n",
            "/usr/local/lib/python3.10/dist-packages/sklearn/svm/_base.py:299: ConvergenceWarning: Solver terminated early (max_iter=1000).  Consider pre-processing your data with StandardScaler or MinMaxScaler.\n",
            "  warnings.warn(\n",
            "/usr/local/lib/python3.10/dist-packages/sklearn/svm/_base.py:299: ConvergenceWarning: Solver terminated early (max_iter=1000).  Consider pre-processing your data with StandardScaler or MinMaxScaler.\n",
            "  warnings.warn(\n",
            "/usr/local/lib/python3.10/dist-packages/sklearn/svm/_base.py:299: ConvergenceWarning: Solver terminated early (max_iter=1000).  Consider pre-processing your data with StandardScaler or MinMaxScaler.\n",
            "  warnings.warn(\n",
            "/usr/local/lib/python3.10/dist-packages/sklearn/svm/_base.py:299: ConvergenceWarning: Solver terminated early (max_iter=1000).  Consider pre-processing your data with StandardScaler or MinMaxScaler.\n",
            "  warnings.warn(\n"
          ]
        }
      ]
    },
    {
      "cell_type": "code",
      "source": [
        "print(\"Accuracy: %.4f (%.4f)\" % (np.mean(svm_accuracy), np.std(svm_accuracy)))\n",
        "print(\"F1-score: %.4f (%.4f)\" % (np.mean(svm_f1), np.std(svm_f1)))\n",
        "print(\"Recall: %.4f (%.4f)\" % (np.mean(svm_recall), np.std(svm_recall)))\n",
        "print(\"AUC: %.4f (%.4f)\" % (np.mean(svm_roc), np.std(svm_roc)))"
      ],
      "metadata": {
        "id": "iLtwVtEQV5Br",
        "colab": {
          "base_uri": "https://localhost:8080/"
        },
        "outputId": "f46a67cc-4bcb-44b3-a332-5e0787683c8c"
      },
      "execution_count": null,
      "outputs": [
        {
          "output_type": "stream",
          "name": "stdout",
          "text": [
            "Accuracy: 0.6332 (0.0705)\n",
            "F1-score: 0.6134 (0.0593)\n",
            "Recall: 0.6261 (0.0467)\n",
            "AUC: 0.6261 (0.0467)\n"
          ]
        }
      ]
    },
    {
      "cell_type": "code",
      "source": [
        "conf_mat_mean = np.mean(svm_conf_mat, axis=0)"
      ],
      "metadata": {
        "id": "quHAsZQXV_wb"
      },
      "execution_count": null,
      "outputs": []
    },
    {
      "cell_type": "code",
      "source": [
        "plot_confusion_matrix(conf_mat_mean,[\"g\",\"h\"])\n",
        "# plt.savefig('MC_SVM.png', transparent=True, dpi=300, bbox_inches=\"tight\")"
      ],
      "metadata": {
        "id": "uhNLlti5WIqL",
        "colab": {
          "base_uri": "https://localhost:8080/",
          "height": 558
        },
        "outputId": "769a3366-350f-4820-e343-23611f3ed70b"
      },
      "execution_count": null,
      "outputs": [
        {
          "output_type": "stream",
          "name": "stdout",
          "text": [
            "Confusion matrix, without normalization\n",
            "[[801.6 431.6]\n",
            " [266.1 402.7]]\n"
          ]
        },
        {
          "output_type": "display_data",
          "data": {
            "text/plain": [
              "<Figure size 640x480 with 2 Axes>"
            ],
            "image/png": "[encoded data removed]"
          },
          "metadata": {}
        }
      ]
    },
    {
      "cell_type": "markdown",
      "source": [
        "## Ensemble"
      ],
      "metadata": {
        "id": "GbyES-JtsQLd"
      }
    },
    {
      "cell_type": "code",
      "source": [
        "# Voting Ensemble for Classification\n",
        "import pandas\n",
        "from sklearn import model_selection\n",
        "from sklearn.linear_model import LogisticRegression\n",
        "from sklearn.tree import DecisionTreeClassifier\n",
        "from sklearn.svm import SVC\n",
        "from sklearn.ensemble import VotingClassifier\n",
        "import warnings\n",
        "warnings.filterwarnings(\"ignore\")\n",
        "\n",
        "seed = 5\n",
        "kfold = model_selection.StratifiedKFold(n_splits=10, random_state=seed, shuffle=True)\n",
        "\n",
        "# create the sub models\n",
        "estimators = []\n",
        "\n",
        "model1 = KNeighborsClassifier(n_neighbors=9, weights=\"distance\", metric=\"manhattan\")\n",
        "estimators.append(('knn', model1))\n",
        "\n",
        "model2 = GLVQ(activation_type=\"swish\", distance_type=\"squared-euclidean\")\n",
        "estimators.append(('lvq', model2))\n",
        "\n",
        "model3 = DecisionTreeClassifier(criterion=\"entropy\", splitter=\"best\")\n",
        "estimators.append(('dt', model3))\n",
        "\n",
        "model4 = RandomForestClassifier(criterion=\"entropy\")\n",
        "estimators.append(('rf', model4))\n",
        "\n",
        "model5 = MLPClassifier(max_iter=1000, hidden_layer_sizes=(100,), activation=\"relu\")\n",
        "estimators.append(('mlp', model5))\n",
        "\n",
        "model6 = SVC(max_iter=1000, C=1, gamma=\"auto\", kernel=\"rbf\")\n",
        "estimators.append(('svm', model6))\n",
        "\n",
        "#train\n",
        "\n",
        "# create the ensemble model\n",
        "ensemble = VotingClassifier(estimators)\n",
        "results = model_selection.cross_val_score(ensemble, X, Y, cv=kfold)\n",
        "print(results.mean())\n",
        "print(results.std())\n",
        "print('Media clf ', results.mean(), 'Desvio ', results.std(), 'Media ', results.mean(), 'Desvio ', results.std())"
      ],
      "metadata": {
        "colab": {
          "base_uri": "https://localhost:8080/"
        },
        "id": "PwJbOFr3mcQY",
        "outputId": "d28f16c4-1803-4280-bcc0-52e3954c1636"
      },
      "execution_count": null,
      "outputs": [
        {
          "output_type": "stream",
          "name": "stdout",
          "text": [
            "0.8334384858044164\n",
            "0.009280264085687901\n",
            "Media clf  0.8334384858044164 Desvio  0.009280264085687901 Media Bagging 0.8334384858044164 Desvio  0.009280264085687901\n"
          ]
        }
      ]
    },
    {
      "cell_type": "code",
      "source": [
        "# compare ensemble to each baseline classifier\n",
        "from numpy import mean\n",
        "from numpy import std\n",
        "from sklearn.datasets import make_classification\n",
        "from sklearn.model_selection import cross_val_score\n",
        "from sklearn.model_selection import RepeatedStratifiedKFold\n",
        "from sklearn.ensemble import RandomForestClassifier\n",
        "from sklearn.linear_model import LogisticRegression\n",
        "from sklearn.neighbors import KNeighborsClassifier\n",
        "from sklearn.tree import DecisionTreeClassifier\n",
        "from sklearn.svm import SVC\n",
        "from sklearn.naive_bayes import GaussianNB\n",
        "from sklearn.ensemble import StackingClassifier\n",
        "from matplotlib import pyplot\n",
        "\n",
        "\n",
        "#get a stacking ensemble of models\n",
        "def get_stacking():\n",
        "  # define the base models\n",
        "\tlevel0 = list()\n",
        "\tlevel0.append(('knn', KNeighborsClassifier(n_neighbors=9, weights=\"distance\", metric=\"manhattan\")))\n",
        "\tlevel0.append(('lvq', GLVQ(activation_type=\"swish\", distance_type=\"squared-euclidean\")))\n",
        "\tlevel0.append(('dt', DecisionTreeClassifier(criterion=\"log_loss\", splitter=\"best\")))\n",
        "\tlevel0.append(('rf', RandomForestClassifier(criterion=\"log_loss\")))\n",
        "\tlevel0.append(('mlp', MLPClassifier(max_iter=1000, hidden_layer_sizes=(100,), activation=\"relu\")))\n",
        "  #level0.append(('svm', SVC(max_iter=1000, C=1, gamma=\"auto\", kernel=\"rbf\")))\n",
        "  # define meta learner model\n",
        "\tlevel1 = LogisticRegression()\n",
        "\t# define the stacking ensemble\n",
        "\tmodel = StackingClassifier(estimators=level0, final_estimator=level1, cv=5)\n",
        "\treturn model\n",
        "\n",
        "\n",
        "# get a list of models to evaluate\n",
        "def get_models():\n",
        "\tmodels = dict()\n",
        "\tmodels['knn'] = KNeighborsClassifier(n_neighbors=9, weights=\"distance\", metric=\"manhattan\")\n",
        "\tmodels['lvq'] = GLVQ(activation_type=\"swish\", distance_type=\"squared-euclidean\")\n",
        "\tmodels['dt'] = DecisionTreeClassifier(criterion=\"log_loss\", splitter=\"best\")\n",
        "\tmodels['rf'] = RandomForestClassifier(criterion=\"log_loss\")\n",
        "\tmodels['mlp'] = MLPClassifier(max_iter=1000, hidden_layer_sizes=(100,), activation=\"relu\")\n",
        "\tmodels['svm'] = SVC(max_iter=1000, C=1, gamma=\"auto\", kernel=\"rbf\")\n",
        "\tmodels['stacking'] = get_stacking()\n",
        "\treturn models\n",
        "\n",
        "# evaluate a give model using cross-validation\n",
        "def evaluate_model(model, X, Y):\n",
        "\tcv = RepeatedStratifiedKFold(n_splits=10, n_repeats=3, random_state=1)\n",
        "\tscores = cross_val_score(model, X, Y, scoring='accuracy', cv=cv, n_jobs=-1, error_score='raise')\n",
        "\treturn scores\n",
        "\n",
        "# get the models to evaluate\n",
        "models = get_models()\n",
        "\n",
        "# evaluate the models and store results\n",
        "results, names = list(), list()\n",
        "for name, model in models.items():\n",
        "\tscores = evaluate_model(model, X, Y)\n",
        "\tresults.append(scores)\n",
        "\tnames.append(name)\n",
        "\tprint('>%s %.3f (%.3f)' % (name, mean(scores), std(scores)))\n",
        "\n",
        "# plot model performance for comparison\n",
        "pyplot.boxplot(results, labels=names, showmeans=True)\n",
        "pyplot.show()"
      ],
      "metadata": {
        "colab": {
          "base_uri": "https://localhost:8080/",
          "height": 555
        },
        "id": "QKkUHDdsmkwI",
        "outputId": "9597d7ca-2970-4b03-909c-7b7e52c47642"
      },
      "execution_count": null,
      "outputs": [
        {
          "output_type": "stream",
          "name": "stdout",
          "text": [
            ">knn 0.821 (0.006)\n",
            ">lvq 0.708 (0.013)\n",
            ">dt 0.822 (0.009)\n",
            ">rf 0.881 (0.007)\n",
            ">mlp 0.840 (0.015)\n",
            ">svm 0.634 (0.010)\n",
            ">stacking 0.882 (0.008)\n"
          ]
        },
        {
          "output_type": "display_data",
          "data": {
            "text/plain": [
              "<Figure size 640x480 with 1 Axes>"
            ],
            "image/png": "[encoded data removed]"
          },
          "metadata": {}
        }
      ]
    }
  ],
  "metadata": {
    "accelerator": "GPU",
    "colab": {
      "machine_shape": "hm",
      "provenance": []
    },
    "kernelspec": {
      "display_name": "Python 3",
      "name": "python3"
    },
    "language_info": {
      "name": "python"
    }
  },
  "nbformat": 4,
  "nbformat_minor": 0
}