{
 "cells": [
  {
   "cell_type": "code",
   "execution_count": 1,
   "id": "bbb75027",
   "metadata": {},
   "outputs": [
    {
     "name": "stderr",
     "output_type": "stream",
     "text": [
      "2023-06-24 11:00:13.182350: I tensorflow/core/platform/cpu_feature_guard.cc:182] This TensorFlow binary is optimized to use available CPU instructions in performance-critical operations.\n",
      "To enable the following instructions: AVX2 FMA, in other operations, rebuild TensorFlow with the appropriate compiler flags.\n"
     ]
    }
   ],
   "source": [
    "import tensorflow as tf\n",
    "import pandas as pd\n",
    "import numpy as np\n",
    "import seaborn as sns\n",
    "import matplotlib.pyplot as plt"
   ]
  },
  {
   "cell_type": "code",
   "execution_count": 2,
   "id": "1fea1b52",
   "metadata": {},
   "outputs": [
    {
     "data": {
      "text/plain": [
       "'2.12.0'"
      ]
     },
     "execution_count": 2,
     "metadata": {},
     "output_type": "execute_result"
    }
   ],
   "source": [
    "tf.__version__"
   ]
  },
  {
   "cell_type": "code",
   "execution_count": 29,
   "id": "2824271d",
   "metadata": {},
   "outputs": [],
   "source": [
    "data = pd.read_csv('Datasets/personagens.csv')"
   ]
  },
  {
   "cell_type": "code",
   "execution_count": 37,
   "id": "e07b2ec0",
   "metadata": {},
   "outputs": [
    {
     "data": {
      "text/plain": [
       "(293, 7)"
      ]
     },
     "execution_count": 37,
     "metadata": {},
     "output_type": "execute_result"
    }
   ],
   "source": [
    "data.shape"
   ]
  },
  {
   "cell_type": "code",
   "execution_count": 38,
   "id": "107772af",
   "metadata": {},
   "outputs": [
    {
     "data": {
      "text/html": [
       "<div>\n",
       "<style scoped>\n",
       "    .dataframe tbody tr th:only-of-type {\n",
       "        vertical-align: middle;\n",
       "    }\n",
       "\n",
       "    .dataframe tbody tr th {\n",
       "        vertical-align: top;\n",
       "    }\n",
       "\n",
       "    .dataframe thead th {\n",
       "        text-align: right;\n",
       "    }\n",
       "</style>\n",
       "<table border=\"1\" class=\"dataframe\">\n",
       "  <thead>\n",
       "    <tr style=\"text-align: right;\">\n",
       "      <th></th>\n",
       "      <th>laranja_camisa_bart</th>\n",
       "      <th>azul_calcao_bart</th>\n",
       "      <th>azul_sapato_bart</th>\n",
       "      <th>marrom_boca_homer</th>\n",
       "      <th>azul_calca_homer</th>\n",
       "      <th>cinza_sapato_homer</th>\n",
       "      <th>classe</th>\n",
       "    </tr>\n",
       "  </thead>\n",
       "  <tbody>\n",
       "    <tr>\n",
       "      <th>0</th>\n",
       "      <td>6.886102</td>\n",
       "      <td>3.495204</td>\n",
       "      <td>1.484984</td>\n",
       "      <td>0.000000</td>\n",
       "      <td>0.0</td>\n",
       "      <td>0.062954</td>\n",
       "      <td>Bart</td>\n",
       "    </tr>\n",
       "    <tr>\n",
       "      <th>1</th>\n",
       "      <td>5.004901</td>\n",
       "      <td>3.183889</td>\n",
       "      <td>1.000142</td>\n",
       "      <td>0.000000</td>\n",
       "      <td>0.0</td>\n",
       "      <td>0.033024</td>\n",
       "      <td>Bart</td>\n",
       "    </tr>\n",
       "    <tr>\n",
       "      <th>2</th>\n",
       "      <td>5.264620</td>\n",
       "      <td>5.029683</td>\n",
       "      <td>0.283567</td>\n",
       "      <td>0.000000</td>\n",
       "      <td>0.0</td>\n",
       "      <td>0.151573</td>\n",
       "      <td>Bart</td>\n",
       "    </tr>\n",
       "    <tr>\n",
       "      <th>3</th>\n",
       "      <td>0.000000</td>\n",
       "      <td>0.000000</td>\n",
       "      <td>0.000000</td>\n",
       "      <td>0.480168</td>\n",
       "      <td>0.0</td>\n",
       "      <td>0.021164</td>\n",
       "      <td>Bart</td>\n",
       "    </tr>\n",
       "    <tr>\n",
       "      <th>4</th>\n",
       "      <td>8.978929</td>\n",
       "      <td>3.459119</td>\n",
       "      <td>0.000000</td>\n",
       "      <td>0.000000</td>\n",
       "      <td>0.0</td>\n",
       "      <td>0.011593</td>\n",
       "      <td>Bart</td>\n",
       "    </tr>\n",
       "  </tbody>\n",
       "</table>\n",
       "</div>"
      ],
      "text/plain": [
       "   laranja_camisa_bart  azul_calcao_bart  azul_sapato_bart  marrom_boca_homer  \\\n",
       "0             6.886102          3.495204          1.484984           0.000000   \n",
       "1             5.004901          3.183889          1.000142           0.000000   \n",
       "2             5.264620          5.029683          0.283567           0.000000   \n",
       "3             0.000000          0.000000          0.000000           0.480168   \n",
       "4             8.978929          3.459119          0.000000           0.000000   \n",
       "\n",
       "   azul_calca_homer  cinza_sapato_homer classe  \n",
       "0               0.0            0.062954   Bart  \n",
       "1               0.0            0.033024   Bart  \n",
       "2               0.0            0.151573   Bart  \n",
       "3               0.0            0.021164   Bart  \n",
       "4               0.0            0.011593   Bart  "
      ]
     },
     "execution_count": 38,
     "metadata": {},
     "output_type": "execute_result"
    }
   ],
   "source": [
    "data.head()"
   ]
  },
  {
   "cell_type": "code",
   "execution_count": 39,
   "id": "8bb4753d",
   "metadata": {},
   "outputs": [
    {
     "data": {
      "text/plain": [
       "<Axes: xlabel='classe', ylabel='count'>"
      ]
     },
     "execution_count": 39,
     "metadata": {},
     "output_type": "execute_result"
    },
    {
     "data": {
      "image/png": "[encoded data removed]",
      "text/plain": [
       "<Figure size 640x480 with 1 Axes>"
      ]
     },
     "metadata": {},
     "output_type": "display_data"
    }
   ],
   "source": [
    "sns.countplot(x = 'classe', data=data)"
   ]
  },
  {
   "cell_type": "code",
   "execution_count": 40,
   "id": "d3a0f382",
   "metadata": {},
   "outputs": [
    {
     "name": "stderr",
     "output_type": "stream",
     "text": [
      "/var/folders/kh/2q0m7g156hg30wfbbx43xn4m0000gn/T/ipykernel_87029/1679999493.py:1: FutureWarning: The default value of numeric_only in DataFrame.corr is deprecated. In a future version, it will default to False. Select only valid columns or specify the value of numeric_only to silence this warning.\n",
      "  sns.heatmap(data.corr(), annot = True)\n"
     ]
    },
    {
     "data": {
      "text/plain": [
       "<Axes: >"
      ]
     },
     "execution_count": 40,
     "metadata": {},
     "output_type": "execute_result"
    },
    {
     "data": {
      "image/png": "[encoded data removed]",
      "text/plain": [
       "<Figure size 640x480 with 2 Axes>"
      ]
     },
     "metadata": {},
     "output_type": "display_data"
    }
   ],
   "source": [
    "sns.heatmap(data.corr(), annot = True)"
   ]
  },
  {
   "cell_type": "code",
   "execution_count": 46,
   "id": "99abc192",
   "metadata": {},
   "outputs": [
    {
     "data": {
      "text/plain": [
       "array([[ 6.886102  ,  3.4952044 ,  1.4849836 ,  0.        ,  0.        ,\n",
       "         0.06295441],\n",
       "       [ 5.004901  ,  3.1838887 ,  1.0001415 ,  0.        ,  0.        ,\n",
       "         0.03302354],\n",
       "       [ 5.2646203 ,  5.0296826 ,  0.283567  ,  0.        ,  0.        ,\n",
       "         0.15157256],\n",
       "       ...,\n",
       "       [ 0.        ,  0.        ,  0.        ,  0.        ,  4.2636285 ,\n",
       "         0.07676148],\n",
       "       [ 0.        ,  0.        ,  0.        ,  0.        ,  1.4291335 ,\n",
       "         0.01701349],\n",
       "       [ 0.        ,  0.        ,  0.        , 13.744248  ,  0.853902  ,\n",
       "         0.0635462 ]])"
      ]
     },
     "execution_count": 46,
     "metadata": {},
     "output_type": "execute_result"
    }
   ],
   "source": [
    "X = data.iloc[:, 0:6].values\n",
    "X"
   ]
  },
  {
   "cell_type": "code",
   "execution_count": 47,
   "id": "5ae219f8",
   "metadata": {},
   "outputs": [
    {
     "data": {
      "text/plain": [
       "array(['Bart', 'Bart', 'Bart', 'Bart', 'Bart', 'Bart', 'Bart', 'Bart',\n",
       "       'Bart', 'Bart', 'Bart', 'Bart', 'Bart', 'Bart', 'Bart', 'Bart',\n",
       "       'Bart', 'Bart', 'Bart', 'Bart', 'Bart', 'Bart', 'Bart', 'Bart',\n",
       "       'Bart', 'Bart', 'Bart', 'Bart', 'Bart', 'Bart', 'Bart', 'Bart',\n",
       "       'Bart', 'Bart', 'Bart', 'Bart', 'Bart', 'Bart', 'Bart', 'Bart',\n",
       "       'Bart', 'Bart', 'Bart', 'Bart', 'Bart', 'Bart', 'Bart', 'Bart',\n",
       "       'Bart', 'Bart', 'Bart', 'Bart', 'Bart', 'Bart', 'Bart', 'Bart',\n",
       "       'Bart', 'Bart', 'Bart', 'Bart', 'Bart', 'Bart', 'Bart', 'Bart',\n",
       "       'Bart', 'Bart', 'Bart', 'Bart', 'Bart', 'Bart', 'Bart', 'Bart',\n",
       "       'Bart', 'Bart', 'Bart', 'Bart', 'Bart', 'Bart', 'Bart', 'Bart',\n",
       "       'Bart', 'Bart', 'Bart', 'Bart', 'Bart', 'Bart', 'Bart', 'Bart',\n",
       "       'Bart', 'Bart', 'Bart', 'Bart', 'Bart', 'Bart', 'Bart', 'Bart',\n",
       "       'Bart', 'Bart', 'Bart', 'Bart', 'Bart', 'Bart', 'Bart', 'Bart',\n",
       "       'Bart', 'Bart', 'Bart', 'Bart', 'Bart', 'Bart', 'Bart', 'Bart',\n",
       "       'Bart', 'Bart', 'Bart', 'Bart', 'Bart', 'Bart', 'Bart', 'Bart',\n",
       "       'Bart', 'Bart', 'Bart', 'Bart', 'Bart', 'Bart', 'Bart', 'Bart',\n",
       "       'Bart', 'Bart', 'Bart', 'Bart', 'Bart', 'Bart', 'Bart', 'Bart',\n",
       "       'Bart', 'Bart', 'Bart', 'Bart', 'Bart', 'Bart', 'Bart', 'Bart',\n",
       "       'Bart', 'Bart', 'Bart', 'Bart', 'Bart', 'Bart', 'Bart', 'Bart',\n",
       "       'Bart', 'Bart', 'Bart', 'Bart', 'Bart', 'Bart', 'Bart', 'Bart',\n",
       "       'Bart', 'Bart', 'Bart', 'Bart', 'Bart', 'Bart', 'Bart', 'Bart',\n",
       "       'Bart', 'Homer', 'Homer', 'Homer', 'Homer', 'Homer', 'Homer',\n",
       "       'Homer', 'Homer', 'Homer', 'Homer', 'Homer', 'Homer', 'Homer',\n",
       "       'Homer', 'Homer', 'Homer', 'Homer', 'Homer', 'Homer', 'Homer',\n",
       "       'Homer', 'Homer', 'Homer', 'Homer', 'Homer', 'Homer', 'Homer',\n",
       "       'Homer', 'Homer', 'Homer', 'Homer', 'Homer', 'Homer', 'Homer',\n",
       "       'Homer', 'Homer', 'Homer', 'Homer', 'Homer', 'Homer', 'Homer',\n",
       "       'Homer', 'Homer', 'Homer', 'Homer', 'Homer', 'Homer', 'Homer',\n",
       "       'Homer', 'Homer', 'Homer', 'Homer', 'Homer', 'Homer', 'Homer',\n",
       "       'Homer', 'Homer', 'Homer', 'Homer', 'Homer', 'Homer', 'Homer',\n",
       "       'Homer', 'Homer', 'Homer', 'Homer', 'Homer', 'Homer', 'Homer',\n",
       "       'Homer', 'Homer', 'Homer', 'Homer', 'Homer', 'Homer', 'Homer',\n",
       "       'Homer', 'Homer', 'Homer', 'Homer', 'Homer', 'Homer', 'Homer',\n",
       "       'Homer', 'Homer', 'Homer', 'Homer', 'Homer', 'Homer', 'Homer',\n",
       "       'Homer', 'Homer', 'Homer', 'Homer', 'Homer', 'Homer', 'Homer',\n",
       "       'Homer', 'Homer', 'Homer', 'Homer', 'Homer', 'Homer', 'Homer',\n",
       "       'Homer', 'Homer', 'Homer', 'Homer', 'Homer', 'Homer', 'Homer',\n",
       "       'Homer', 'Homer', 'Homer', 'Homer', 'Homer', 'Homer', 'Homer',\n",
       "       'Homer', 'Homer', 'Homer', 'Homer', 'Homer', 'Homer'], dtype=object)"
      ]
     },
     "execution_count": 47,
     "metadata": {},
     "output_type": "execute_result"
    }
   ],
   "source": [
    "y = data.iloc[:, 6].values\n",
    "y"
   ]
  },
  {
   "cell_type": "code",
   "execution_count": 43,
   "id": "987b9465",
   "metadata": {},
   "outputs": [
    {
     "data": {
      "text/plain": [
       "array([ True,  True,  True,  True,  True,  True,  True,  True,  True,\n",
       "        True,  True,  True,  True,  True,  True,  True,  True,  True,\n",
       "        True,  True,  True,  True,  True,  True,  True,  True,  True,\n",
       "        True,  True,  True,  True,  True,  True,  True,  True,  True,\n",
       "        True,  True,  True,  True,  True,  True,  True,  True,  True,\n",
       "        True,  True,  True,  True,  True,  True,  True,  True,  True,\n",
       "        True,  True,  True,  True,  True,  True,  True,  True,  True,\n",
       "        True,  True,  True,  True,  True,  True,  True,  True,  True,\n",
       "        True,  True,  True,  True,  True,  True,  True,  True,  True,\n",
       "        True,  True,  True,  True,  True,  True,  True,  True,  True,\n",
       "        True,  True,  True,  True,  True,  True,  True,  True,  True,\n",
       "        True,  True,  True,  True,  True,  True,  True,  True,  True,\n",
       "        True,  True,  True,  True,  True,  True,  True,  True,  True,\n",
       "        True,  True,  True,  True,  True,  True,  True,  True,  True,\n",
       "        True,  True,  True,  True,  True,  True,  True,  True,  True,\n",
       "        True,  True,  True,  True,  True,  True,  True,  True,  True,\n",
       "        True,  True,  True,  True,  True,  True,  True,  True,  True,\n",
       "        True,  True,  True,  True,  True,  True,  True,  True,  True,\n",
       "        True,  True,  True,  True,  True,  True,  True, False, False,\n",
       "       False, False, False, False, False, False, False, False, False,\n",
       "       False, False, False, False, False, False, False, False, False,\n",
       "       False, False, False, False, False, False, False, False, False,\n",
       "       False, False, False, False, False, False, False, False, False,\n",
       "       False, False, False, False, False, False, False, False, False,\n",
       "       False, False, False, False, False, False, False, False, False,\n",
       "       False, False, False, False, False, False, False, False, False,\n",
       "       False, False, False, False, False, False, False, False, False,\n",
       "       False, False, False, False, False, False, False, False, False,\n",
       "       False, False, False, False, False, False, False, False, False,\n",
       "       False, False, False, False, False, False, False, False, False,\n",
       "       False, False, False, False, False, False, False, False, False,\n",
       "       False, False, False, False, False, False, False, False, False,\n",
       "       False, False, False, False, False])"
      ]
     },
     "execution_count": 43,
     "metadata": {},
     "output_type": "execute_result"
    }
   ],
   "source": [
    "y = (y == 'Bart')\n",
    "y"
   ]
  },
  {
   "cell_type": "code",
   "execution_count": 52,
   "id": "9bebf5f5",
   "metadata": {},
   "outputs": [],
   "source": [
    "from sklearn.model_selection import train_test_split\n",
    "\n",
    "X_train, X_test, y_train, y_test = train_test_split(X, y, test_size = 0.2)"
   ]
  },
  {
   "cell_type": "code",
   "execution_count": 56,
   "id": "01a2cf66",
   "metadata": {},
   "outputs": [
    {
     "data": {
      "text/plain": [
       "((234, 6), (234,))"
      ]
     },
     "execution_count": 56,
     "metadata": {},
     "output_type": "execute_result"
    }
   ],
   "source": [
    "X_train.shape, y_train.shape"
   ]
  },
  {
   "cell_type": "code",
   "execution_count": 55,
   "id": "a59f02bf",
   "metadata": {},
   "outputs": [
    {
     "data": {
      "text/plain": [
       "((59, 6), (59,))"
      ]
     },
     "execution_count": 55,
     "metadata": {},
     "output_type": "execute_result"
    }
   ],
   "source": [
    "X_test.shape, y_test.shape"
   ]
  },
  {
   "cell_type": "markdown",
   "id": "6d4b876f",
   "metadata": {},
   "source": [
    "Construção da rede neural"
   ]
  },
  {
   "cell_type": "code",
   "execution_count": 64,
   "id": "ba13ed2d",
   "metadata": {},
   "outputs": [
    {
     "data": {
      "text/plain": [
       "3.5"
      ]
     },
     "execution_count": 64,
     "metadata": {},
     "output_type": "execute_result"
    }
   ],
   "source": [
    "(6+1)/2 #arredonda pra 4"
   ]
  },
  {
   "cell_type": "code",
   "execution_count": 65,
   "id": "13e1f2fa",
   "metadata": {},
   "outputs": [],
   "source": [
    "rede_neural = tf.keras.models.Sequential()\n",
    "rede_neural.add(tf.keras.layers.Dense(units=4, activation='relu', input_shape=(6,))) #primeira camada\n",
    "rede_neural.add(tf.keras.layers.Dense(units=4, activation='relu'))\n",
    "rede_neural.add(tf.keras.layers.Dense(units=4, activation='relu'))\n",
    "rede_neural.add(tf.keras.layers.Dense(units=1, activation='sigmoid')) #camada de saída que retorna uma probabilidade"
   ]
  },
  {
   "cell_type": "code",
   "execution_count": 67,
   "id": "1d313d31",
   "metadata": {},
   "outputs": [
    {
     "name": "stdout",
     "output_type": "stream",
     "text": [
      "Model: \"sequential\"\n",
      "_________________________________________________________________\n",
      " Layer (type)                Output Shape              Param #   \n",
      "=================================================================\n",
      " dense (Dense)               (None, 4)                 28        \n",
      "                                                                 \n",
      " dense_1 (Dense)             (None, 4)                 20        \n",
      "                                                                 \n",
      " dense_2 (Dense)             (None, 4)                 20        \n",
      "                                                                 \n",
      " dense_3 (Dense)             (None, 1)                 5         \n",
      "                                                                 \n",
      "=================================================================\n",
      "Total params: 73\n",
      "Trainable params: 73\n",
      "Non-trainable params: 0\n",
      "_________________________________________________________________\n"
     ]
    }
   ],
   "source": [
    "rede_neural.summary()"
   ]
  },
  {
   "cell_type": "code",
   "execution_count": 70,
   "id": "c596d009",
   "metadata": {},
   "outputs": [],
   "source": [
    "rede_neural.compile(optimizer='Adam', loss='binary_crossentropy', metrics = ['accuracy'])"
   ]
  },
  {
   "cell_type": "code",
   "execution_count": 72,
   "id": "17db6cd9",
   "metadata": {},
   "outputs": [
    {
     "name": "stdout",
     "output_type": "stream",
     "text": [
      "Epoch 1/50\n",
      "7/7 [==============================] - 1s 40ms/step - loss: 1.0304 - accuracy: 0.3857 - val_loss: 0.7358 - val_accuracy: 0.5417\n",
      "Epoch 2/50\n",
      "7/7 [==============================] - 0s 10ms/step - loss: 0.9728 - accuracy: 0.4143 - val_loss: 0.7010 - val_accuracy: 0.5417\n",
      "Epoch 3/50\n",
      "7/7 [==============================] - 0s 7ms/step - loss: 0.9252 - accuracy: 0.4143 - val_loss: 0.6696 - val_accuracy: 0.5833\n",
      "Epoch 4/50\n",
      "7/7 [==============================] - 0s 8ms/step - loss: 0.8821 - accuracy: 0.3952 - val_loss: 0.6437 - val_accuracy: 0.5833\n",
      "Epoch 5/50\n",
      "7/7 [==============================] - 0s 9ms/step - loss: 0.8463 - accuracy: 0.3810 - val_loss: 0.6223 - val_accuracy: 0.5833\n",
      "Epoch 6/50\n",
      "7/7 [==============================] - 0s 8ms/step - loss: 0.8152 - accuracy: 0.3810 - val_loss: 0.6036 - val_accuracy: 0.5417\n",
      "Epoch 7/50\n",
      "7/7 [==============================] - 0s 8ms/step - loss: 0.7873 - accuracy: 0.3762 - val_loss: 0.5879 - val_accuracy: 0.5417\n",
      "Epoch 8/50\n",
      "7/7 [==============================] - 0s 7ms/step - loss: 0.7646 - accuracy: 0.3762 - val_loss: 0.5741 - val_accuracy: 0.5417\n",
      "Epoch 9/50\n",
      "7/7 [==============================] - 0s 7ms/step - loss: 0.7450 - accuracy: 0.3857 - val_loss: 0.5621 - val_accuracy: 0.5417\n",
      "Epoch 10/50\n",
      "7/7 [==============================] - 0s 8ms/step - loss: 0.7261 - accuracy: 0.3905 - val_loss: 0.5518 - val_accuracy: 0.5000\n",
      "Epoch 11/50\n",
      "7/7 [==============================] - 0s 8ms/step - loss: 0.7108 - accuracy: 0.3905 - val_loss: 0.5426 - val_accuracy: 0.5417\n",
      "Epoch 12/50\n",
      "7/7 [==============================] - 0s 9ms/step - loss: 0.6968 - accuracy: 0.4048 - val_loss: 0.5345 - val_accuracy: 0.5417\n",
      "Epoch 13/50\n",
      "7/7 [==============================] - 0s 7ms/step - loss: 0.6840 - accuracy: 0.4143 - val_loss: 0.5273 - val_accuracy: 0.5417\n",
      "Epoch 14/50\n",
      "7/7 [==============================] - 0s 8ms/step - loss: 0.6727 - accuracy: 0.4190 - val_loss: 0.5207 - val_accuracy: 0.5417\n",
      "Epoch 15/50\n",
      "7/7 [==============================] - 0s 8ms/step - loss: 0.6627 - accuracy: 0.4381 - val_loss: 0.5147 - val_accuracy: 0.5417\n",
      "Epoch 16/50\n",
      "7/7 [==============================] - 0s 11ms/step - loss: 0.6529 - accuracy: 0.4619 - val_loss: 0.5090 - val_accuracy: 0.5417\n",
      "Epoch 17/50\n",
      "7/7 [==============================] - 0s 10ms/step - loss: 0.6444 - accuracy: 0.4762 - val_loss: 0.5036 - val_accuracy: 0.5417\n",
      "Epoch 18/50\n",
      "7/7 [==============================] - 0s 11ms/step - loss: 0.6364 - accuracy: 0.5000 - val_loss: 0.4984 - val_accuracy: 0.5417\n",
      "Epoch 19/50\n",
      "7/7 [==============================] - 0s 12ms/step - loss: 0.6291 - accuracy: 0.5381 - val_loss: 0.4934 - val_accuracy: 0.5417\n",
      "Epoch 20/50\n",
      "7/7 [==============================] - 0s 12ms/step - loss: 0.6215 - accuracy: 0.5667 - val_loss: 0.4886 - val_accuracy: 0.5417\n",
      "Epoch 21/50\n",
      "7/7 [==============================] - 0s 13ms/step - loss: 0.6147 - accuracy: 0.6048 - val_loss: 0.4839 - val_accuracy: 0.5417\n",
      "Epoch 22/50\n",
      "7/7 [==============================] - 0s 11ms/step - loss: 0.6080 - accuracy: 0.6429 - val_loss: 0.4791 - val_accuracy: 0.6667\n",
      "Epoch 23/50\n",
      "7/7 [==============================] - 0s 9ms/step - loss: 0.6011 - accuracy: 0.6714 - val_loss: 0.4742 - val_accuracy: 0.7500\n",
      "Epoch 24/50\n",
      "7/7 [==============================] - 0s 12ms/step - loss: 0.5947 - accuracy: 0.7095 - val_loss: 0.4692 - val_accuracy: 0.7500\n",
      "Epoch 25/50\n",
      "7/7 [==============================] - 0s 9ms/step - loss: 0.5881 - accuracy: 0.7238 - val_loss: 0.4642 - val_accuracy: 0.7500\n",
      "Epoch 26/50\n",
      "7/7 [==============================] - 0s 7ms/step - loss: 0.5814 - accuracy: 0.7381 - val_loss: 0.4592 - val_accuracy: 0.7917\n",
      "Epoch 27/50\n",
      "7/7 [==============================] - 0s 8ms/step - loss: 0.5748 - accuracy: 0.7524 - val_loss: 0.4540 - val_accuracy: 0.7917\n",
      "Epoch 28/50\n",
      "7/7 [==============================] - 0s 13ms/step - loss: 0.5679 - accuracy: 0.7857 - val_loss: 0.4486 - val_accuracy: 0.8333\n",
      "Epoch 29/50\n",
      "7/7 [==============================] - 0s 12ms/step - loss: 0.5614 - accuracy: 0.8095 - val_loss: 0.4433 - val_accuracy: 0.8333\n",
      "Epoch 30/50\n",
      "7/7 [==============================] - 0s 14ms/step - loss: 0.5541 - accuracy: 0.8238 - val_loss: 0.4377 - val_accuracy: 0.8333\n",
      "Epoch 31/50\n",
      "7/7 [==============================] - 0s 11ms/step - loss: 0.5472 - accuracy: 0.8286 - val_loss: 0.4318 - val_accuracy: 0.8333\n",
      "Epoch 32/50\n",
      "7/7 [==============================] - 0s 9ms/step - loss: 0.5402 - accuracy: 0.8286 - val_loss: 0.4260 - val_accuracy: 0.8333\n",
      "Epoch 33/50\n",
      "7/7 [==============================] - 0s 9ms/step - loss: 0.5329 - accuracy: 0.8333 - val_loss: 0.4201 - val_accuracy: 0.8333\n",
      "Epoch 34/50\n",
      "7/7 [==============================] - 0s 11ms/step - loss: 0.5255 - accuracy: 0.8333 - val_loss: 0.4140 - val_accuracy: 0.8333\n",
      "Epoch 35/50\n",
      "7/7 [==============================] - 0s 13ms/step - loss: 0.5180 - accuracy: 0.8381 - val_loss: 0.4082 - val_accuracy: 0.8333\n",
      "Epoch 36/50\n",
      "7/7 [==============================] - 0s 9ms/step - loss: 0.5104 - accuracy: 0.8476 - val_loss: 0.4024 - val_accuracy: 0.8333\n",
      "Epoch 37/50\n",
      "7/7 [==============================] - 0s 8ms/step - loss: 0.5028 - accuracy: 0.8476 - val_loss: 0.3966 - val_accuracy: 0.8333\n",
      "Epoch 38/50\n",
      "7/7 [==============================] - 0s 9ms/step - loss: 0.4957 - accuracy: 0.8524 - val_loss: 0.3906 - val_accuracy: 0.8333\n",
      "Epoch 39/50\n",
      "7/7 [==============================] - 0s 8ms/step - loss: 0.4878 - accuracy: 0.8524 - val_loss: 0.3845 - val_accuracy: 0.8333\n",
      "Epoch 40/50\n",
      "7/7 [==============================] - 0s 10ms/step - loss: 0.4800 - accuracy: 0.8524 - val_loss: 0.3780 - val_accuracy: 0.8333\n",
      "Epoch 41/50\n",
      "7/7 [==============================] - 0s 8ms/step - loss: 0.4719 - accuracy: 0.8571 - val_loss: 0.3718 - val_accuracy: 0.8333\n",
      "Epoch 42/50\n",
      "7/7 [==============================] - 0s 9ms/step - loss: 0.4637 - accuracy: 0.8571 - val_loss: 0.3650 - val_accuracy: 0.8333\n",
      "Epoch 43/50\n",
      "7/7 [==============================] - 0s 9ms/step - loss: 0.4550 - accuracy: 0.8571 - val_loss: 0.3583 - val_accuracy: 0.8333\n",
      "Epoch 44/50\n",
      "7/7 [==============================] - 0s 9ms/step - loss: 0.4464 - accuracy: 0.8571 - val_loss: 0.3512 - val_accuracy: 0.8333\n",
      "Epoch 45/50\n",
      "7/7 [==============================] - 0s 8ms/step - loss: 0.4373 - accuracy: 0.8571 - val_loss: 0.3442 - val_accuracy: 0.8333\n",
      "Epoch 46/50\n",
      "7/7 [==============================] - 0s 8ms/step - loss: 0.4279 - accuracy: 0.8571 - val_loss: 0.3370 - val_accuracy: 0.8333\n",
      "Epoch 47/50\n",
      "7/7 [==============================] - 0s 8ms/step - loss: 0.4187 - accuracy: 0.8571 - val_loss: 0.3298 - val_accuracy: 0.8333\n",
      "Epoch 48/50\n",
      "7/7 [==============================] - 0s 8ms/step - loss: 0.4092 - accuracy: 0.8571 - val_loss: 0.3227 - val_accuracy: 0.8333\n",
      "Epoch 49/50\n",
      "7/7 [==============================] - 0s 8ms/step - loss: 0.3996 - accuracy: 0.8571 - val_loss: 0.3155 - val_accuracy: 0.8333\n",
      "Epoch 50/50\n",
      "7/7 [==============================] - 0s 8ms/step - loss: 0.3896 - accuracy: 0.8571 - val_loss: 0.3087 - val_accuracy: 0.8333\n"
     ]
    }
   ],
   "source": [
    "historico = rede_neural.fit(X_train, y_train, epochs=50, validation_split=0.1) "
   ]
  },
  {
   "cell_type": "markdown",
   "id": "0992d188",
   "metadata": {},
   "source": [
    "Avaliação da rede neural"
   ]
  },
  {
   "cell_type": "code",
   "execution_count": 73,
   "id": "cc70c863",
   "metadata": {},
   "outputs": [
    {
     "data": {
      "text/plain": [
       "dict_keys(['loss', 'accuracy', 'val_loss', 'val_accuracy'])"
      ]
     },
     "execution_count": 73,
     "metadata": {},
     "output_type": "execute_result"
    }
   ],
   "source": [
    "historico.history.keys()"
   ]
  },
  {
   "cell_type": "code",
   "execution_count": 74,
   "id": "ddf1b56f",
   "metadata": {},
   "outputs": [
    {
     "data": {
      "text/plain": [
       "[<matplotlib.lines.Line2D at 0x7f7852c04ca0>]"
      ]
     },
     "execution_count": 74,
     "metadata": {},
     "output_type": "execute_result"
    },
    {
     "data": {
      "image/png": "[encoded data removed]",
      "text/plain": [
       "<Figure size 640x480 with 1 Axes>"
      ]
     },
     "metadata": {},
     "output_type": "display_data"
    }
   ],
   "source": [
    "plt.plot(historico.history['val_loss']) #redução do erro ao passar das épocas"
   ]
  },
  {
   "cell_type": "code",
   "execution_count": 75,
   "id": "85e6d498",
   "metadata": {},
   "outputs": [
    {
     "data": {
      "text/plain": [
       "[<matplotlib.lines.Line2D at 0x7f7852c7f460>]"
      ]
     },
     "execution_count": 75,
     "metadata": {},
     "output_type": "execute_result"
    },
    {
     "data": {
      "image/png": "[encoded data removed]",
      "text/plain": [
       "<Figure size 640x480 with 1 Axes>"
      ]
     },
     "metadata": {},
     "output_type": "display_data"
    }
   ],
   "source": [
    "plt.plot(historico.history['val_accuracy'])"
   ]
  },
  {
   "cell_type": "code",
   "execution_count": 78,
   "id": "e2b1b4ab",
   "metadata": {},
   "outputs": [
    {
     "name": "stdout",
     "output_type": "stream",
     "text": [
      "2/2 [==============================] - 0s 3ms/step\n"
     ]
    },
    {
     "data": {
      "text/plain": [
       "array([[4.56540167e-01],\n",
       "       [7.57213056e-01],\n",
       "       [7.96021104e-01],\n",
       "       [7.26557195e-01],\n",
       "       [3.71924996e-01],\n",
       "       [1.84106797e-01],\n",
       "       [4.41487267e-04],\n",
       "       [6.62403584e-01],\n",
       "       [1.37578815e-01],\n",
       "       [5.79493284e-01],\n",
       "       [2.62609512e-01],\n",
       "       [6.90512240e-01],\n",
       "       [5.75930178e-01],\n",
       "       [7.35785007e-01],\n",
       "       [5.67716658e-01],\n",
       "       [5.78292549e-01],\n",
       "       [1.98238134e-01],\n",
       "       [3.56573425e-02],\n",
       "       [6.79502428e-01],\n",
       "       [7.21262336e-01],\n",
       "       [1.66144863e-01],\n",
       "       [7.59048164e-01],\n",
       "       [9.27679539e-02],\n",
       "       [9.68900451e-04],\n",
       "       [6.99189067e-01],\n",
       "       [7.68655777e-01],\n",
       "       [3.46275896e-01],\n",
       "       [5.79194427e-01],\n",
       "       [5.70571125e-01],\n",
       "       [5.78021467e-01],\n",
       "       [4.84666467e-01],\n",
       "       [5.42813897e-01],\n",
       "       [5.62725902e-01],\n",
       "       [7.01515675e-01],\n",
       "       [6.25463188e-01],\n",
       "       [1.71850890e-01],\n",
       "       [2.09265172e-01],\n",
       "       [7.39606619e-01],\n",
       "       [7.73590088e-01],\n",
       "       [7.85475075e-01],\n",
       "       [7.97428846e-01],\n",
       "       [4.95688915e-01],\n",
       "       [7.61560142e-01],\n",
       "       [7.47502208e-01],\n",
       "       [5.77071428e-01],\n",
       "       [5.61438799e-01],\n",
       "       [1.17269516e-01],\n",
       "       [7.83906460e-01],\n",
       "       [5.67046344e-01],\n",
       "       [6.61826849e-01],\n",
       "       [5.77459335e-01],\n",
       "       [4.84790593e-01],\n",
       "       [6.76322877e-01],\n",
       "       [5.17132938e-01],\n",
       "       [8.12727511e-01],\n",
       "       [9.77749005e-03],\n",
       "       [7.92388618e-01],\n",
       "       [7.39261508e-01],\n",
       "       [5.77663183e-01]], dtype=float32)"
      ]
     },
     "execution_count": 78,
     "metadata": {},
     "output_type": "execute_result"
    }
   ],
   "source": [
    "previsoes = rede_neural.predict(X_teste)\n",
    "previsoes\n",
    "#ver probabilidades que deveriam estar entre 0 e 1"
   ]
  },
  {
   "cell_type": "code",
   "execution_count": 77,
   "id": "36cfbbc1",
   "metadata": {},
   "outputs": [
    {
     "data": {
      "text/plain": [
       "array([[False],\n",
       "       [ True],\n",
       "       [ True],\n",
       "       [ True],\n",
       "       [False],\n",
       "       [False],\n",
       "       [False],\n",
       "       [ True],\n",
       "       [False],\n",
       "       [ True],\n",
       "       [False],\n",
       "       [ True],\n",
       "       [ True],\n",
       "       [ True],\n",
       "       [ True],\n",
       "       [ True],\n",
       "       [False],\n",
       "       [False],\n",
       "       [ True],\n",
       "       [ True],\n",
       "       [False],\n",
       "       [ True],\n",
       "       [False],\n",
       "       [False],\n",
       "       [ True],\n",
       "       [ True],\n",
       "       [False],\n",
       "       [ True],\n",
       "       [ True],\n",
       "       [ True],\n",
       "       [False],\n",
       "       [ True],\n",
       "       [ True],\n",
       "       [ True],\n",
       "       [ True],\n",
       "       [False],\n",
       "       [False],\n",
       "       [ True],\n",
       "       [ True],\n",
       "       [ True],\n",
       "       [ True],\n",
       "       [False],\n",
       "       [ True],\n",
       "       [ True],\n",
       "       [ True],\n",
       "       [ True],\n",
       "       [False],\n",
       "       [ True],\n",
       "       [ True],\n",
       "       [ True],\n",
       "       [ True],\n",
       "       [False],\n",
       "       [ True],\n",
       "       [ True],\n",
       "       [ True],\n",
       "       [False],\n",
       "       [ True],\n",
       "       [ True],\n",
       "       [ True]])"
      ]
     },
     "execution_count": 77,
     "metadata": {},
     "output_type": "execute_result"
    }
   ],
   "source": [
    "previsoes = (previsoes > 0.5)\n",
    "previsoes \n"
   ]
  },
  {
   "cell_type": "code",
   "execution_count": 79,
   "id": "3e3cf4b3",
   "metadata": {},
   "outputs": [
    {
     "data": {
      "text/plain": [
       "array([False,  True,  True,  True, False, False, False,  True, False,\n",
       "       False, False,  True,  True,  True, False,  True, False, False,\n",
       "        True,  True, False,  True, False, False,  True,  True, False,\n",
       "       False,  True,  True,  True,  True, False,  True,  True, False,\n",
       "       False,  True,  True,  True,  True, False,  True,  True, False,\n",
       "       False, False,  True,  True,  True,  True, False,  True, False,\n",
       "        True, False,  True,  True, False])"
      ]
     },
     "execution_count": 79,
     "metadata": {},
     "output_type": "execute_result"
    }
   ],
   "source": [
    "y_teste"
   ]
  }
 ],
 "metadata": {
  "kernelspec": {
   "display_name": "Python 3 (ipykernel)",
   "language": "python",
   "name": "python3"
  },
  "language_info": {
   "codemirror_mode": {
    "name": "ipython",
    "version": 3
   },
   "file_extension": ".py",
   "mimetype": "text/x-python",
   "name": "python",
   "nbconvert_exporter": "python",
   "pygments_lexer": "ipython3",
   "version": "3.9.13"
  }
 },
 "nbformat": 4,
 "nbformat_minor": 5
}
